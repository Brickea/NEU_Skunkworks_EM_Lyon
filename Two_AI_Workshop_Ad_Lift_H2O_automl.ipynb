{
 "cells": [
  {
   "cell_type": "markdown",
   "metadata": {},
   "source": [
    "<div style=\"text-align: right\">NEU Skunkworks AI workshop at Northeastern with EM Lyon Business School</div>"
   ]
  },
  {
   "cell_type": "markdown",
   "metadata": {},
   "source": [
    "## Predicting Ad Lift with an Ensemble of Machine Learning Algorithms\n",
    "\n",
    "_Lessons from Kaggle – Ensemble ML and Feature Engineering_\n",
    "\n",
    "99.9% of high ranking Kaggle submissions shared two approaches. Stacking and feature engineering. In this notebook, we will use indivdual models and stacked models to predict lift. Stacking is a type of ensemble, creating a ”super-model” by combining many complementary models.\n",
    "\n",
    "We will use generate thousands on individual models, select the best models and combine the best models into a ”super-model” to predict lift.\n",
    "\n",
    "_Models and hyperparamter optimization_\n",
    "\n",
    "A model is an algorithm with a given set of hyperparamters. For example, a random forest estimator that uses 10 trees and one that uses 20 trees are two different models. Using a few algorithms and important tuning paramters (hyperparamters) we will try many combination and select rank the models on some metric like AUC, mean residual deviance, RSME as approriate for the analysis.  \n",
    "\n",
    "_The machine learning algorithms_\n",
    "\n",
    "We will use the following algorithms as our base:\n",
    "\n",
    "* Deep Learning (Neural Networks)    \n",
    "* Generalized Linear Model (GLM)  \n",
    "* Extreme Random Forest (XRT) \n",
    "* Distributed Random Forest (DRF)     \n",
    "* Gradient Boosting Machine (GBM)     \n",
    "* XGBoost   \n",
    "\n",
    "\n",
    "_Deep Learning (Neural Networks)_  \n",
    "\n",
    "The are simple Multiclass perceptrons (MLPs) as discussed in the first notebook.  \n",
    "\n",
    "\n",
    "_Generalized Linear Model (GLM)_   \n",
    "\n",
    "The generalized linear model (GLM) is a flexible generalization of ordinary linear regression that allows for response variables that have error distribution models other than a normal distribution. The GLM generalizes linear regression by allowing the linear model to be related to the response variable via a link function and by allowing the magnitude of the variance of each measurement to be a function of its predicted value.\n",
    "\n",
    "In our case, we will assume that the the distribution of errors is normal and that the link function is the identity, which means the will will be performing simple linear regression.   Linear regression predicts the response variable $y$ assuming it has a linear relationship with predictor variable(s) $x$ or $x_1, x_2, ,,, x_n$.\n",
    "\n",
    "$$y = \\beta_0 + \\beta_1 x + \\varepsilon .$$\n",
    "\n",
    "\n",
    "_Distributed Random Forest (DRF)_    \n",
    "\n",
    "A Distributed Random Forest (DRF) is a powerful low-bias classification and regression tool that can fit highly non-linear data. To prevent overfitting a DRF generates a forest of classification or regression trees, rather than a single classification or regression tree through a process called bagging. The variance of estimates can be adjusted by the number of trees used. \n",
    "\n",
    "_Extreme Random Forest (XRT)_\n",
    "\n",
    "Extreme random forests are nearly identical to standard random forests except that the splits, both attribute and cut-point, are chosen totally or partially at random. Bias/variance\n",
    "analysis has shown that XRTs work by decreasing variance while at the same time increasing bias. Once the randomization level is properly adjusted, the variance almost vanishes while bias only slightly increases with respect to standard trees. \n",
    "\n",
    "\n",
    "_Gradient Boosting Machine (GBM)_   \n",
    "\n",
    "Gradient Boosting Machine (for Regression and Classification) is a forward learning ensemble method. The guiding heuristic is that good predictive results can be obtained through increasingly refined approximations. Boosting can create more accurate models than bagging but doesn’t help to avoid overfitting as much as bagging does.\n",
    "\n",
    "Unlike a DRF which uses bagging to prevent overfitting a GBM uses boosting to sequentially refine a regression or classification tree. However as each tree is built in parallel it allows for multi-threading (asynchronous) training large data sets.\n",
    "\n",
    "As with all tree based methods it creates decision trees and is highly interpretable.\n",
    "\n",
    "\n",
    "_XGBoost_\n",
    "\n",
    "XGBoost is a supervised learning algorithm that implements a process called boosting to yield accurate models. Boosting refers to the ensemble learning technique of building many models sequentially, with each new model attempting to correct for the deficiencies in the previous model. \n",
    "\n",
    "Both XGBoost and GBM follows the principle of gradient boosting. However, XGBoost has a more regularized model formalization to control overfitting. Boosting does not prevent overfitting the way bagging does, but typically gives better accuracy. XGBoost corrects for the deficiencies of boosting by ensembling regularized trees.\n",
    "\n",
    "Like a GBM, each tree is built in parallel it allows for multi-threading (asynchronous) training large data sets.\n",
    "\n",
    "As with all tree based methods it creates decision trees and is highly interpretable."
   ]
  },
  {
   "cell_type": "markdown",
   "metadata": {},
   "source": [
    "## H2O.ai Automl\n",
    "\n",
    "H2O’s AutoML can be used for automating the machine learning workflow, which includes automatic training and tuning of many models within a user-specified time-limit. Stacked Ensembles – one based on all previously trained models, another one on the best model of each family – will be automatically trained on collections of individual models to produce highly predictive ensemble models which, in most cases, will be the top performing models in the AutoML Leaderboard.\n",
    "\n",
    "\n",
    "You will need to install H2O.ai Automl for python to run this notebook. \n",
    "\n",
    "\n",
    "```bash\n",
    "\n",
    "pip install requests\n",
    "pip install tabulate\n",
    "pip install \"colorama>=0.3.8\"\n",
    "pip install future\n",
    "\n",
    "pip uninstall h2o\n",
    "\n",
    "\n",
    "pip install -f http://h2o-release.s3.amazonaws.com/h2o/latest_stable_Py.html h2o\n",
    "\n",
    "```\n",
    "\n",
    "Note: When installing H2O from pip in OS X El Capitan, users must include the --user flag.\n",
    "\n",
    "```bash\n",
    "pip install -f http://h2o-release.s3.amazonaws.com/h2o/latest_stable_Py.html h2o --user\n",
    "```\n",
    "\n",
    "See Downloading & Installing H2O [http://docs.h2o.ai/h2o/latest-stable/h2o-docs/downloading.html](http://docs.h2o.ai/h2o/latest-stable/h2o-docs/downloading.html)  \n"
   ]
  },
  {
   "cell_type": "code",
   "execution_count": 1,
   "metadata": {},
   "outputs": [],
   "source": [
    "# Import libraries\n",
    "# Use pip install or conda install if missing a library\n",
    "import h2o\n",
    "from h2o.automl import H2OAutoML\n",
    "import random, os, sys\n",
    "from datetime import datetime\n",
    "import pandas as pd\n",
    "import logging\n",
    "import csv\n",
    "import optparse\n",
    "import time\n",
    "import json\n",
    "from distutils.util import strtobool\n",
    "import psutil\n",
    "import numpy as np\n",
    "import matplotlib.pyplot as plt"
   ]
  },
  {
   "cell_type": "code",
   "execution_count": 2,
   "metadata": {},
   "outputs": [],
   "source": [
    "# Set a minimum memory size and a run time in seconds\n",
    "min_mem_size=6 \n",
    "run_time=222"
   ]
  },
  {
   "cell_type": "code",
   "execution_count": 3,
   "metadata": {},
   "outputs": [
    {
     "name": "stdout",
     "output_type": "stream",
     "text": [
      "4\n"
     ]
    }
   ],
   "source": [
    "# Use 50% of availible resources\n",
    "pct_memory=0.5\n",
    "virtual_memory=psutil.virtual_memory()\n",
    "min_mem_size=int(round(int(pct_memory*virtual_memory.available)/1073741824,0))\n",
    "print(min_mem_size)"
   ]
  },
  {
   "cell_type": "code",
   "execution_count": 4,
   "metadata": {},
   "outputs": [
    {
     "name": "stdout",
     "output_type": "stream",
     "text": [
      "Checking whether there is an H2O instance running at http://localhost:36237 ..... not found.\n",
      "Attempting to start a local H2O server...\n",
      "  Java Version: openjdk version \"1.8.0_152-release\"; OpenJDK Runtime Environment (build 1.8.0_152-release-1056-b12); OpenJDK 64-Bit Server VM (build 25.152-b12, mixed mode)\n",
      "  Starting server from /Users/bear/anaconda/lib/python3.6/site-packages/h2o/backend/bin/h2o.jar\n",
      "  Ice root: /var/folders/lh/42j8mfjx069d1bkc2wlf2pw40000gn/T/tmpe13b0rtj\n",
      "  JVM stdout: /var/folders/lh/42j8mfjx069d1bkc2wlf2pw40000gn/T/tmpe13b0rtj/h2o_bear_started_from_python.out\n",
      "  JVM stderr: /var/folders/lh/42j8mfjx069d1bkc2wlf2pw40000gn/T/tmpe13b0rtj/h2o_bear_started_from_python.err\n",
      "  Server is running at http://127.0.0.1:36237\n",
      "Connecting to H2O server at http://127.0.0.1:36237 ... successful.\n"
     ]
    },
    {
     "data": {
      "text/html": [
       "<div style=\"overflow:auto\"><table style=\"width:50%\"><tr><td>H2O cluster uptime:</td>\n",
       "<td>01 secs</td></tr>\n",
       "<tr><td>H2O cluster timezone:</td>\n",
       "<td>America/New_York</td></tr>\n",
       "<tr><td>H2O data parsing timezone:</td>\n",
       "<td>UTC</td></tr>\n",
       "<tr><td>H2O cluster version:</td>\n",
       "<td>3.26.0.6</td></tr>\n",
       "<tr><td>H2O cluster version age:</td>\n",
       "<td>2 months and 1 day </td></tr>\n",
       "<tr><td>H2O cluster name:</td>\n",
       "<td>H2O_from_python_bear_f2kx8k</td></tr>\n",
       "<tr><td>H2O cluster total nodes:</td>\n",
       "<td>1</td></tr>\n",
       "<tr><td>H2O cluster free memory:</td>\n",
       "<td>3.833 Gb</td></tr>\n",
       "<tr><td>H2O cluster total cores:</td>\n",
       "<td>8</td></tr>\n",
       "<tr><td>H2O cluster allowed cores:</td>\n",
       "<td>8</td></tr>\n",
       "<tr><td>H2O cluster status:</td>\n",
       "<td>accepting new members, healthy</td></tr>\n",
       "<tr><td>H2O connection url:</td>\n",
       "<td>http://127.0.0.1:36237</td></tr>\n",
       "<tr><td>H2O connection proxy:</td>\n",
       "<td>None</td></tr>\n",
       "<tr><td>H2O internal security:</td>\n",
       "<td>False</td></tr>\n",
       "<tr><td>H2O API Extensions:</td>\n",
       "<td>Amazon S3, XGBoost, Algos, AutoML, Core V3, TargetEncoder, Core V4</td></tr>\n",
       "<tr><td>Python version:</td>\n",
       "<td>3.6.9 final</td></tr></table></div>"
      ],
      "text/plain": [
       "--------------------------  ------------------------------------------------------------------\n",
       "H2O cluster uptime:         01 secs\n",
       "H2O cluster timezone:       America/New_York\n",
       "H2O data parsing timezone:  UTC\n",
       "H2O cluster version:        3.26.0.6\n",
       "H2O cluster version age:    2 months and 1 day\n",
       "H2O cluster name:           H2O_from_python_bear_f2kx8k\n",
       "H2O cluster total nodes:    1\n",
       "H2O cluster free memory:    3.833 Gb\n",
       "H2O cluster total cores:    8\n",
       "H2O cluster allowed cores:  8\n",
       "H2O cluster status:         accepting new members, healthy\n",
       "H2O connection url:         http://127.0.0.1:36237\n",
       "H2O connection proxy:\n",
       "H2O internal security:      False\n",
       "H2O API Extensions:         Amazon S3, XGBoost, Algos, AutoML, Core V3, TargetEncoder, Core V4\n",
       "Python version:             3.6.9 final\n",
       "--------------------------  ------------------------------------------------------------------"
      ]
     },
     "metadata": {},
     "output_type": "display_data"
    }
   ],
   "source": [
    "# 65535 Highest port no\n",
    "# Start the H2O server on a random port\n",
    "port_no=random.randint(5555,55555)\n",
    "\n",
    "#  h2o.init(strict_version_check=False,min_mem_size_GB=min_mem_size,port=port_no) # start h2o\n",
    "try:\n",
    "  h2o.init(strict_version_check=False,min_mem_size_GB=min_mem_size,port=port_no) # start h2o\n",
    "except:\n",
    "  logging.critical('h2o.init')\n",
    "  h2o.download_all_logs(dirname=logs_path, filename=logfile)      \n",
    "  h2o.cluster().shutdown()\n",
    "  sys.exit(2)"
   ]
  },
  {
   "cell_type": "markdown",
   "metadata": {},
   "source": [
    "## Import data and Manage Data Types\n",
    "\n",
    "This exploration of H2O will use a version of"
   ]
  },
  {
   "cell_type": "code",
   "execution_count": 5,
   "metadata": {},
   "outputs": [
    {
     "name": "stdout",
     "output_type": "stream",
     "text": [
      "Parse progress: |█████████████████████████████████████████████████████████| 100%\n"
     ]
    }
   ],
   "source": [
    "# Import the processed data from notebook One\n",
    "df = h2o.import_file(path = \"data/Ad_Lift_Channels_MA.csv\")"
   ]
  },
  {
   "cell_type": "code",
   "execution_count": 6,
   "metadata": {},
   "outputs": [
    {
     "data": {
      "text/html": [
       "<table>\n",
       "<thead>\n",
       "<tr><th>timestamp          </th><th style=\"text-align: right;\">  lift_A</th><th style=\"text-align: right;\">  volume_A</th><th style=\"text-align: right;\">  lift_B</th><th style=\"text-align: right;\">  volume_B</th><th style=\"text-align: right;\">  lift_C</th><th style=\"text-align: right;\">  volume_C</th><th style=\"text-align: right;\">  lift_D</th><th style=\"text-align: right;\">  volume_D</th><th style=\"text-align: right;\">  volume_A_Momentum</th><th style=\"text-align: right;\">  lift_A_Momentum</th><th style=\"text-align: right;\">  3step_MA_lift_A</th><th style=\"text-align: right;\">  7step_MA_lift_A</th><th style=\"text-align: right;\">  15step_MA_lift_A</th><th style=\"text-align: right;\">  Std_Dev_lift_A</th><th style=\"text-align: right;\">  volume_B_Momentum</th><th style=\"text-align: right;\">  lift_B_Momentum</th><th style=\"text-align: right;\">  3step_MA_lift_B</th><th style=\"text-align: right;\">  7step_MA_lift_B</th><th style=\"text-align: right;\">  15step_MA_lift_B</th><th style=\"text-align: right;\">  Std_Dev_lift_B</th><th style=\"text-align: right;\">  volume_C_Momentum</th><th style=\"text-align: right;\">  lift_C_Momentum</th><th style=\"text-align: right;\">  3step_MA_lift_C</th><th style=\"text-align: right;\">  7step_MA_lift_C</th><th style=\"text-align: right;\">  15step_MA_lift_C</th><th style=\"text-align: right;\">  Std_Dev_lift_C</th><th style=\"text-align: right;\">  volume_D_Momentum</th><th style=\"text-align: right;\">  lift_D_Momentum</th><th style=\"text-align: right;\">  3step_MA_lift_D</th><th style=\"text-align: right;\">  7step_MA_lift_D</th><th style=\"text-align: right;\">  15step_MA_lift_D</th><th style=\"text-align: right;\">  Std_Dev_lift_D</th></tr>\n",
       "</thead>\n",
       "<tbody>\n",
       "<tr><td>2019-06-03 12:00:00</td><td style=\"text-align: right;\">0.556049</td><td style=\"text-align: right;\">      1400</td><td style=\"text-align: right;\">0.626393</td><td style=\"text-align: right;\">     10729</td><td style=\"text-align: right;\">0.58533 </td><td style=\"text-align: right;\">       806</td><td style=\"text-align: right;\">0.715347</td><td style=\"text-align: right;\">      4100</td><td style=\"text-align: right;\">            -1127.2</td><td style=\"text-align: right;\">      0.00960996 </td><td style=\"text-align: right;\">         0.560489</td><td style=\"text-align: right;\">         0.551317</td><td style=\"text-align: right;\">          0.552086</td><td style=\"text-align: right;\">      0.00667434</td><td style=\"text-align: right;\">            -2673.6</td><td style=\"text-align: right;\">      0.00832424 </td><td style=\"text-align: right;\">         0.630313</td><td style=\"text-align: right;\">         0.622518</td><td style=\"text-align: right;\">          0.623054</td><td style=\"text-align: right;\">      0.00564206</td><td style=\"text-align: right;\">             1065  </td><td style=\"text-align: right;\">      0.00586212 </td><td style=\"text-align: right;\">         0.585098</td><td style=\"text-align: right;\">         0.579331</td><td style=\"text-align: right;\">          0.57782 </td><td style=\"text-align: right;\">      0.00483421</td><td style=\"text-align: right;\">             8377.9</td><td style=\"text-align: right;\">      0.00561333 </td><td style=\"text-align: right;\">         0.717666</td><td style=\"text-align: right;\">         0.711996</td><td style=\"text-align: right;\">          0.712082</td><td style=\"text-align: right;\">      0.00402836</td></tr>\n",
       "<tr><td>2019-06-03 16:00:00</td><td style=\"text-align: right;\">0.549015</td><td style=\"text-align: right;\">      1100</td><td style=\"text-align: right;\">0.620525</td><td style=\"text-align: right;\">      2701</td><td style=\"text-align: right;\">0.581742</td><td style=\"text-align: right;\">       691</td><td style=\"text-align: right;\">0.710635</td><td style=\"text-align: right;\">      1171</td><td style=\"text-align: right;\">            -1880.8</td><td style=\"text-align: right;\">      0.00217147 </td><td style=\"text-align: right;\">         0.561556</td><td style=\"text-align: right;\">         0.553309</td><td style=\"text-align: right;\">          0.552674</td><td style=\"text-align: right;\">      0.0067411 </td><td style=\"text-align: right;\">            -2154.3</td><td style=\"text-align: right;\">      0.00196216 </td><td style=\"text-align: right;\">         0.631246</td><td style=\"text-align: right;\">         0.624149</td><td style=\"text-align: right;\">          0.623527</td><td style=\"text-align: right;\">      0.00569505</td><td style=\"text-align: right;\">             -954.3</td><td style=\"text-align: right;\">      0.00146431 </td><td style=\"text-align: right;\">         0.586845</td><td style=\"text-align: right;\">         0.581358</td><td style=\"text-align: right;\">          0.578595</td><td style=\"text-align: right;\">      0.00485649</td><td style=\"text-align: right;\">            -5770.6</td><td style=\"text-align: right;\">      0.00110849 </td><td style=\"text-align: right;\">         0.718297</td><td style=\"text-align: right;\">         0.713378</td><td style=\"text-align: right;\">          0.712402</td><td style=\"text-align: right;\">      0.00405336</td></tr>\n",
       "<tr><td>2019-06-03 20:00:00</td><td style=\"text-align: right;\">0.557204</td><td style=\"text-align: right;\">      1922</td><td style=\"text-align: right;\">0.626835</td><td style=\"text-align: right;\">      5913</td><td style=\"text-align: right;\">0.585836</td><td style=\"text-align: right;\">       126</td><td style=\"text-align: right;\">0.715635</td><td style=\"text-align: right;\">       100</td><td style=\"text-align: right;\">            -3357.2</td><td style=\"text-align: right;\">     -0.00477376 </td><td style=\"text-align: right;\">         0.55599 </td><td style=\"text-align: right;\">         0.55408 </td><td style=\"text-align: right;\">          0.552438</td><td style=\"text-align: right;\">      0.00684972</td><td style=\"text-align: right;\">             1798.2</td><td style=\"text-align: right;\">     -0.00411228 </td><td style=\"text-align: right;\">         0.626444</td><td style=\"text-align: right;\">         0.624809</td><td style=\"text-align: right;\">          0.623351</td><td style=\"text-align: right;\">      0.00576504</td><td style=\"text-align: right;\">             -858.9</td><td style=\"text-align: right;\">     -0.000936882</td><td style=\"text-align: right;\">         0.584063</td><td style=\"text-align: right;\">         0.582254</td><td style=\"text-align: right;\">          0.578953</td><td style=\"text-align: right;\">      0.00509508</td><td style=\"text-align: right;\">            -5549.3</td><td style=\"text-align: right;\">     -0.00280477 </td><td style=\"text-align: right;\">         0.714764</td><td style=\"text-align: right;\">         0.713825</td><td style=\"text-align: right;\">          0.712312</td><td style=\"text-align: right;\">      0.00414126</td></tr>\n",
       "<tr><td>2019-06-04 00:00:00</td><td style=\"text-align: right;\">0.554889</td><td style=\"text-align: right;\">       600</td><td style=\"text-align: right;\">0.624898</td><td style=\"text-align: right;\">      3240</td><td style=\"text-align: right;\">0.584679</td><td style=\"text-align: right;\">      1166</td><td style=\"text-align: right;\">0.71367 </td><td style=\"text-align: right;\">       114</td><td style=\"text-align: right;\">            -1219.4</td><td style=\"text-align: right;\">     -0.00506747 </td><td style=\"text-align: right;\">         0.55409 </td><td style=\"text-align: right;\">         0.556107</td><td style=\"text-align: right;\">          0.552787</td><td style=\"text-align: right;\">      0.00676869</td><td style=\"text-align: right;\">            -1080.8</td><td style=\"text-align: right;\">     -0.00453979 </td><td style=\"text-align: right;\">         0.624584</td><td style=\"text-align: right;\">         0.626366</td><td style=\"text-align: right;\">          0.623593</td><td style=\"text-align: right;\">      0.00567859</td><td style=\"text-align: right;\">             -938.5</td><td style=\"text-align: right;\">     -0.00183373 </td><td style=\"text-align: right;\">         0.584303</td><td style=\"text-align: right;\">         0.583767</td><td style=\"text-align: right;\">          0.579599</td><td style=\"text-align: right;\">      0.00525107</td><td style=\"text-align: right;\">            -6688.9</td><td style=\"text-align: right;\">     -0.00309723 </td><td style=\"text-align: right;\">         0.713872</td><td style=\"text-align: right;\">         0.714982</td><td style=\"text-align: right;\">          0.712553</td><td style=\"text-align: right;\">      0.00414035</td></tr>\n",
       "<tr><td>2019-06-04 04:00:00</td><td style=\"text-align: right;\">0.557204</td><td style=\"text-align: right;\">     12694</td><td style=\"text-align: right;\">0.626794</td><td style=\"text-align: right;\">      3015</td><td style=\"text-align: right;\">0.585836</td><td style=\"text-align: right;\">      1749</td><td style=\"text-align: right;\">0.71436 </td><td style=\"text-align: right;\">      1410</td><td style=\"text-align: right;\">             -989.4</td><td style=\"text-align: right;\">      3.4021e-05 </td><td style=\"text-align: right;\">         0.553703</td><td style=\"text-align: right;\">         0.556946</td><td style=\"text-align: right;\">          0.552633</td><td style=\"text-align: right;\">      0.00687055</td><td style=\"text-align: right;\">             -303.3</td><td style=\"text-align: right;\">     -0.000346633</td><td style=\"text-align: right;\">         0.624086</td><td style=\"text-align: right;\">         0.627084</td><td style=\"text-align: right;\">          0.623421</td><td style=\"text-align: right;\">      0.00574383</td><td style=\"text-align: right;\">               -5.2</td><td style=\"text-align: right;\">      0.000717011</td><td style=\"text-align: right;\">         0.584086</td><td style=\"text-align: right;\">         0.584697</td><td style=\"text-align: right;\">          0.579998</td><td style=\"text-align: right;\">      0.00535168</td><td style=\"text-align: right;\">            -1050  </td><td style=\"text-align: right;\">     -6.71739e-05</td><td style=\"text-align: right;\">         0.713313</td><td style=\"text-align: right;\">         0.715469</td><td style=\"text-align: right;\">          0.71255 </td><td style=\"text-align: right;\">      0.00416251</td></tr>\n",
       "<tr><td>2019-06-04 08:00:00</td><td style=\"text-align: right;\">0.55778 </td><td style=\"text-align: right;\">       609</td><td style=\"text-align: right;\">0.627297</td><td style=\"text-align: right;\">      2000</td><td style=\"text-align: right;\">0.586124</td><td style=\"text-align: right;\">       200</td><td style=\"text-align: right;\">0.715332</td><td style=\"text-align: right;\">       655</td><td style=\"text-align: right;\">             3103.8</td><td style=\"text-align: right;\">      0.00117434 </td><td style=\"text-align: right;\">         0.556433</td><td style=\"text-align: right;\">         0.557569</td><td style=\"text-align: right;\">          0.552943</td><td style=\"text-align: right;\">      0.00694062</td><td style=\"text-align: right;\">            -1992.1</td><td style=\"text-align: right;\">      0.000756819</td><td style=\"text-align: right;\">         0.626175</td><td style=\"text-align: right;\">         0.627541</td><td style=\"text-align: right;\">          0.623663</td><td style=\"text-align: right;\">      0.00578931</td><td style=\"text-align: right;\">              549.9</td><td style=\"text-align: right;\">      0.000572885</td><td style=\"text-align: right;\">         0.585451</td><td style=\"text-align: right;\">         0.585519</td><td style=\"text-align: right;\">          0.58063 </td><td style=\"text-align: right;\">      0.00548371</td><td style=\"text-align: right;\">             -617  </td><td style=\"text-align: right;\">      8.54898e-05</td><td style=\"text-align: right;\">         0.714555</td><td style=\"text-align: right;\">         0.715599</td><td style=\"text-align: right;\">          0.712709</td><td style=\"text-align: right;\">      0.0042058 </td></tr>\n",
       "<tr><td>2019-06-04 12:00:00</td><td style=\"text-align: right;\">0.558354</td><td style=\"text-align: right;\">     11025</td><td style=\"text-align: right;\">0.627793</td><td style=\"text-align: right;\">     20471</td><td style=\"text-align: right;\">0.586483</td><td style=\"text-align: right;\">       450</td><td style=\"text-align: right;\">0.716322</td><td style=\"text-align: right;\">      1400</td><td style=\"text-align: right;\">             3266.5</td><td style=\"text-align: right;\">      0.00227342 </td><td style=\"text-align: right;\">         0.556625</td><td style=\"text-align: right;\">         0.556435</td><td style=\"text-align: right;\">          0.553058</td><td style=\"text-align: right;\">      0.00707402</td><td style=\"text-align: right;\">             -866.3</td><td style=\"text-align: right;\">      0.00177556 </td><td style=\"text-align: right;\">         0.626329</td><td style=\"text-align: right;\">         0.626451</td><td style=\"text-align: right;\">          0.623745</td><td style=\"text-align: right;\">      0.00588322</td><td style=\"text-align: right;\">              188.1</td><td style=\"text-align: right;\">      0.00113671 </td><td style=\"text-align: right;\">         0.585547</td><td style=\"text-align: right;\">         0.584952</td><td style=\"text-align: right;\">          0.581159</td><td style=\"text-align: right;\">      0.00551811</td><td style=\"text-align: right;\">              342.5</td><td style=\"text-align: right;\">      0.000919505</td><td style=\"text-align: right;\">         0.714454</td><td style=\"text-align: right;\">         0.714756</td><td style=\"text-align: right;\">          0.712797</td><td style=\"text-align: right;\">      0.00429502</td></tr>\n",
       "<tr><td>2019-06-04 16:00:00</td><td style=\"text-align: right;\">0.559499</td><td style=\"text-align: right;\">       200</td><td style=\"text-align: right;\">0.628211</td><td style=\"text-align: right;\">      1346</td><td style=\"text-align: right;\">0.586984</td><td style=\"text-align: right;\">      2800</td><td style=\"text-align: right;\">0.715971</td><td style=\"text-align: right;\">      1114</td><td style=\"text-align: right;\">              447  </td><td style=\"text-align: right;\">      0.000980622</td><td style=\"text-align: right;\">         0.557779</td><td style=\"text-align: right;\">         0.555785</td><td style=\"text-align: right;\">          0.553367</td><td style=\"text-align: right;\">      0.00720366</td><td style=\"text-align: right;\">             4307.7</td><td style=\"text-align: right;\">      0.000821725</td><td style=\"text-align: right;\">         0.627294</td><td style=\"text-align: right;\">         0.625791</td><td style=\"text-align: right;\">          0.623991</td><td style=\"text-align: right;\">      0.00594219</td><td style=\"text-align: right;\">             -413.2</td><td style=\"text-align: right;\">      0.000511739</td><td style=\"text-align: right;\">         0.586148</td><td style=\"text-align: right;\">         0.585147</td><td style=\"text-align: right;\">          0.581789</td><td style=\"text-align: right;\">      0.00537685</td><td style=\"text-align: right;\">              291.7</td><td style=\"text-align: right;\">      0.000763322</td><td style=\"text-align: right;\">         0.715338</td><td style=\"text-align: right;\">         0.714472</td><td style=\"text-align: right;\">          0.713083</td><td style=\"text-align: right;\">      0.00431323</td></tr>\n",
       "<tr><td>2019-06-04 20:00:00</td><td style=\"text-align: right;\">0.560639</td><td style=\"text-align: right;\">      1100</td><td style=\"text-align: right;\">0.629151</td><td style=\"text-align: right;\">      7551</td><td style=\"text-align: right;\">0.587625</td><td style=\"text-align: right;\">       400</td><td style=\"text-align: right;\">0.716645</td><td style=\"text-align: right;\">       200</td><td style=\"text-align: right;\">              586.9</td><td style=\"text-align: right;\">      0.00138133 </td><td style=\"text-align: right;\">         0.558544</td><td style=\"text-align: right;\">         0.556278</td><td style=\"text-align: right;\">          0.553947</td><td style=\"text-align: right;\">      0.00659033</td><td style=\"text-align: right;\">             4894.1</td><td style=\"text-align: right;\">      0.00100339 </td><td style=\"text-align: right;\">         0.627767</td><td style=\"text-align: right;\">         0.62605 </td><td style=\"text-align: right;\">          0.624424</td><td style=\"text-align: right;\">      0.00543728</td><td style=\"text-align: right;\">              352  </td><td style=\"text-align: right;\">      0.000712093</td><td style=\"text-align: right;\">         0.58653 </td><td style=\"text-align: right;\">         0.585384</td><td style=\"text-align: right;\">          0.582556</td><td style=\"text-align: right;\">      0.00448868</td><td style=\"text-align: right;\">              318.4</td><td style=\"text-align: right;\">      0.00101553 </td><td style=\"text-align: right;\">         0.715875</td><td style=\"text-align: right;\">         0.714561</td><td style=\"text-align: right;\">          0.713416</td><td style=\"text-align: right;\">      0.00380692</td></tr>\n",
       "<tr><td>2019-06-05 00:00:00</td><td style=\"text-align: right;\">0.562058</td><td style=\"text-align: right;\">       400</td><td style=\"text-align: right;\">0.63035 </td><td style=\"text-align: right;\">     11486</td><td style=\"text-align: right;\">0.588263</td><td style=\"text-align: right;\">       200</td><td style=\"text-align: right;\">0.718076</td><td style=\"text-align: right;\">      1260</td><td style=\"text-align: right;\">            -4475.6</td><td style=\"text-align: right;\">      0.00137395 </td><td style=\"text-align: right;\">         0.559498</td><td style=\"text-align: right;\">         0.557939</td><td style=\"text-align: right;\">          0.555183</td><td style=\"text-align: right;\">      0.00596977</td><td style=\"text-align: right;\">            -2428.1</td><td style=\"text-align: right;\">      0.000831736</td><td style=\"text-align: right;\">         0.628385</td><td style=\"text-align: right;\">         0.627282</td><td style=\"text-align: right;\">          0.62537 </td><td style=\"text-align: right;\">      0.0048936 </td><td style=\"text-align: right;\">              480.2</td><td style=\"text-align: right;\">      0.00069412 </td><td style=\"text-align: right;\">         0.587031</td><td style=\"text-align: right;\">         0.586224</td><td style=\"text-align: right;\">          0.583654</td><td style=\"text-align: right;\">      0.00401308</td><td style=\"text-align: right;\">             -298.8</td><td style=\"text-align: right;\">      0.000581942</td><td style=\"text-align: right;\">         0.716313</td><td style=\"text-align: right;\">         0.715419</td><td style=\"text-align: right;\">          0.714148</td><td style=\"text-align: right;\">      0.00345123</td></tr>\n",
       "</tbody>\n",
       "</table>"
      ]
     },
     "metadata": {},
     "output_type": "display_data"
    },
    {
     "data": {
      "text/plain": []
     },
     "execution_count": 6,
     "metadata": {},
     "output_type": "execute_result"
    }
   ],
   "source": [
    "df.head()"
   ]
  },
  {
   "cell_type": "code",
   "execution_count": 7,
   "metadata": {},
   "outputs": [
    {
     "name": "stdout",
     "output_type": "stream",
     "text": [
      "Rows:1111\n",
      "Cols:33\n",
      "\n",
      "\n"
     ]
    },
    {
     "data": {
      "text/html": [
       "<table>\n",
       "<thead>\n",
       "<tr><th>       </th><th>timestamp          </th><th>lift_A             </th><th>volume_A          </th><th>lift_B             </th><th>volume_B         </th><th>lift_C             </th><th>volume_C          </th><th>lift_D             </th><th>volume_D         </th><th>volume_A_Momentum  </th><th>lift_A_Momentum       </th><th>3step_MA_lift_A    </th><th>7step_MA_lift_A    </th><th>15step_MA_lift_A   </th><th>Std_Dev_lift_A       </th><th>volume_B_Momentum  </th><th>lift_B_Momentum        </th><th>3step_MA_lift_B   </th><th>7step_MA_lift_B    </th><th>15step_MA_lift_B   </th><th>Std_Dev_lift_B       </th><th>volume_C_Momentum  </th><th>lift_C_Momentum       </th><th>3step_MA_lift_C    </th><th>7step_MA_lift_C   </th><th>15step_MA_lift_C   </th><th>Std_Dev_lift_C       </th><th>volume_D_Momentum  </th><th>lift_D_Momentum       </th><th>3step_MA_lift_D    </th><th>7step_MA_lift_D    </th><th>15step_MA_lift_D   </th><th>Std_Dev_lift_D       </th></tr>\n",
       "</thead>\n",
       "<tbody>\n",
       "<tr><td>type   </td><td>time               </td><td>real               </td><td>int               </td><td>real               </td><td>int              </td><td>real               </td><td>int               </td><td>real               </td><td>int              </td><td>real               </td><td>real                  </td><td>real               </td><td>real               </td><td>real               </td><td>real                 </td><td>real               </td><td>real                   </td><td>real              </td><td>real               </td><td>real               </td><td>real                 </td><td>real               </td><td>real                  </td><td>real               </td><td>real              </td><td>real               </td><td>real                 </td><td>real               </td><td>real                  </td><td>real               </td><td>real               </td><td>real               </td><td>real                 </td></tr>\n",
       "<tr><td>mins   </td><td>1559563200000.0    </td><td>0.549015419        </td><td>0.0               </td><td>0.620525464        </td><td>0.0              </td><td>0.581741981        </td><td>0.0               </td><td>0.705171234        </td><td>0.0              </td><td>-129382.1          </td><td>-0.016094096199999353 </td><td>0.5537030449999998 </td><td>0.5513165632857142 </td><td>0.5520861244       </td><td>0.0014124698333377516</td><td>-237266.0          </td><td>-0.042956302999998974  </td><td>0.6240859403333333</td><td>0.6225175005714287 </td><td>0.6230541142666667 </td><td>0.0007399472562338108</td><td>-57390.6           </td><td>-0.011049028299999208 </td><td>0.5840626833333332 </td><td>0.579331329142857 </td><td>0.5778201912666666 </td><td>0.001183388323824041 </td><td>-438925.6          </td><td>-0.014882444499996872 </td><td>0.7059088796666688 </td><td>0.7079680520000002 </td><td>0.7087264583999993 </td><td>0.0009332569134160696</td></tr>\n",
       "<tr><td>mean   </td><td>1567555144590.459  </td><td>0.7814693582430243 </td><td>4791.71197119712  </td><td>0.7712370099666968 </td><td>8834.818181818182</td><td>0.7140144274725472 </td><td>2622.198919891989 </td><td>0.804269138049505  </td><td>9150.824482448244</td><td>11.16354635463552  </td><td>0.000458069092889184  </td><td>0.7808727309747967 </td><td>0.7802523973478206 </td><td>0.7790170283644765 </td><td>0.006162417522278323 </td><td>1.790279027902805  </td><td>0.0002370094156623032  </td><td>0.7709367530015012</td><td>0.7706128292990871 </td><td>0.7699718590283823 </td><td>0.006516415718184553 </td><td>0.6704770477047701 </td><td>0.0003593527685882732 </td><td>0.7135872454977503 </td><td>0.7131022643609355</td><td>0.7121245069698772 </td><td>0.0047296159902661325</td><td>3.073447344734415  </td><td>0.00011150668641023562</td><td>0.8041457439162928 </td><td>0.8039914498217826 </td><td>0.8036851050931291 </td><td>0.004648984640109416 </td></tr>\n",
       "<tr><td>maxs   </td><td>1575547140000.0    </td><td>0.897097756        </td><td>638279.0          </td><td>0.8981505190000001 </td><td>1180756.0        </td><td>0.849988561        </td><td>284189.0          </td><td>0.896224102        </td><td>2157730.0        </td><td>189228.2           </td><td>0.015587939400000472  </td><td>0.8953783489999997 </td><td>0.894460443857143  </td><td>0.8919311353333341 </td><td>0.017473072940103147 </td><td>353222.7           </td><td>0.03875569630000175    </td><td>0.8973754026666682</td><td>0.8946081024285711 </td><td>0.8936892961999993 </td><td>0.043064769661550595 </td><td>84618.0            </td><td>0.03806367200000149   </td><td>0.8491355243333341 </td><td>0.8483927621428565</td><td>0.8473425840000002 </td><td>0.03472438910119242  </td><td>679849.6           </td><td>0.014596552400002905  </td><td>0.8949095240000018 </td><td>0.8930378601428577 </td><td>0.892523523733333  </td><td>0.02447500203459722  </td></tr>\n",
       "<tr><td>sigma  </td><td>4620410920.889639  </td><td>0.09412481559233705</td><td>24704.980164233344</td><td>0.07032361981780565</td><td>45326.75830037889</td><td>0.06568045931531231</td><td>12089.933738260535</td><td>0.06018699667014846</td><td>67140.5129975462 </td><td>13472.728700104031 </td><td>0.0035147649239294287 </td><td>0.09441371306145256</td><td>0.09473438409133207</td><td>0.09536677096008767</td><td>0.003233931643596973 </td><td>24680.732356859517 </td><td>0.004403997069694092   </td><td>0.0704120331679713</td><td>0.07056246039022007</td><td>0.07086640053189507</td><td>0.005983243995404119 </td><td>6498.7884057377205 </td><td>0.0030052072321261458 </td><td>0.06567802284099372</td><td>0.0656096956368734</td><td>0.06548901194983757</td><td>0.0036769015066263726</td><td>37369.98108066317  </td><td>0.0027068791437835213 </td><td>0.06023988533699443</td><td>0.06030213294113899</td><td>0.06039960242642531</td><td>0.0037888102368909974</td></tr>\n",
       "<tr><td>zeros  </td><td>0                  </td><td>0                  </td><td>4                 </td><td>0                  </td><td>8                </td><td>0                  </td><td>13                </td><td>0                  </td><td>1                </td><td>0                  </td><td>0                     </td><td>0                  </td><td>0                  </td><td>0                  </td><td>0                    </td><td>1                  </td><td>0                      </td><td>0                 </td><td>0                  </td><td>0                  </td><td>0                    </td><td>0                  </td><td>0                     </td><td>0                  </td><td>0                 </td><td>0                  </td><td>0                    </td><td>0                  </td><td>0                     </td><td>0                  </td><td>0                  </td><td>0                  </td><td>0                    </td></tr>\n",
       "<tr><td>missing</td><td>0                  </td><td>0                  </td><td>0                 </td><td>0                  </td><td>0                </td><td>0                  </td><td>0                 </td><td>0                  </td><td>0                </td><td>0                  </td><td>0                     </td><td>0                  </td><td>0                  </td><td>0                  </td><td>0                    </td><td>0                  </td><td>0                      </td><td>0                 </td><td>0                  </td><td>0                  </td><td>0                    </td><td>0                  </td><td>0                     </td><td>0                  </td><td>0                 </td><td>0                  </td><td>0                    </td><td>0                  </td><td>0                     </td><td>0                  </td><td>0                  </td><td>0                  </td><td>0                    </td></tr>\n",
       "<tr><td>0      </td><td>2019-06-03 12:00:00</td><td>0.556049154        </td><td>1400.0            </td><td>0.626392914        </td><td>10729.0          </td><td>0.5853302779999999 </td><td>806.0             </td><td>0.715346953        </td><td>4100.0           </td><td>-1127.1999999999998</td><td>0.009609963700000336  </td><td>0.560488561        </td><td>0.5513165632857142 </td><td>0.5520861244       </td><td>0.006674344074817588 </td><td>-2673.6000000000004</td><td>0.008324244800000047   </td><td>0.6303129893333335</td><td>0.6225175005714287 </td><td>0.6230541142666667 </td><td>0.0056420580640235305</td><td>1065.0             </td><td>0.0058621247000001375 </td><td>0.5850976003333334 </td><td>0.579331329142857 </td><td>0.5778201912666666 </td><td>0.0048342146281588365</td><td>8377.9             </td><td>0.005613327899999687  </td><td>0.7176657553333333 </td><td>0.7119961901428572 </td><td>0.7120821577333332 </td><td>0.004028359586841934 </td></tr>\n",
       "<tr><td>1      </td><td>2019-06-03 16:00:00</td><td>0.549015419        </td><td>1100.0            </td><td>0.620525464        </td><td>2701.0           </td><td>0.581741981        </td><td>691.0             </td><td>0.710635338        </td><td>1171.0           </td><td>-1880.8            </td><td>0.002171473800000157  </td><td>0.5615556336666666 </td><td>0.553309027142857  </td><td>0.5526741642       </td><td>0.006741095325966262 </td><td>-2154.2999999999993</td><td>0.00196215590000004    </td><td>0.6312463273333335</td><td>0.6241492151428574 </td><td>0.6235267782666667 </td><td>0.005695048285019695 </td><td>-954.3             </td><td>0.001464308100000089  </td><td>0.5868454223333333 </td><td>0.5813581734285712</td><td>0.5785951636       </td><td>0.004856487376378934 </td><td>-5770.6            </td><td>0.0011084916999998251 </td><td>0.7182972099999999 </td><td>0.7133781730000001 </td><td>0.7124023563999998 </td><td>0.004053357297075396 </td></tr>\n",
       "<tr><td>2      </td><td>2019-06-03 20:00:00</td><td>0.5572042979999999 </td><td>1922.0            </td><td>0.626834541        </td><td>5913.0           </td><td>0.585836421        </td><td>126.0             </td><td>0.715634969        </td><td>100.0            </td><td>-3357.2            </td><td>-0.004773764699999905 </td><td>0.5559901563333333 </td><td>0.5540798745714284 </td><td>0.552438189        </td><td>0.006849715628052839 </td><td>1798.1999999999998 </td><td>-0.004112280199999985  </td><td>0.6264439010000001</td><td>0.6248089034285716 </td><td>0.6233511532666667 </td><td>0.005765044558362746 </td><td>-858.9000000000001 </td><td>-0.0009368824999999026</td><td>0.5840626833333332 </td><td>0.5822538011428569</td><td>0.5789533664666667 </td><td>0.00509508431346747  </td><td>-5549.3            </td><td>-0.002804765900000339 </td><td>0.714764385        </td><td>0.713825334857143  </td><td>0.7123122139999997 </td><td>0.004141260148419478 </td></tr>\n",
       "<tr><td>3      </td><td>2019-06-04 00:00:00</td><td>0.554889418        </td><td>600.0             </td><td>0.624897816        </td><td>3240.0           </td><td>0.584678981        </td><td>1166.0            </td><td>0.713669888        </td><td>114.0            </td><td>-1219.4            </td><td>-0.0050674650999998905</td><td>0.5540896236666665 </td><td>0.5561071389999999 </td><td>0.5527872537333333 </td><td>0.006768688565295189 </td><td>-1080.8000000000002</td><td>-0.004539794900000005  </td><td>0.6245843063333334</td><td>0.6263664032857145 </td><td>0.6235934721333333 </td><td>0.005678593733713769 </td><td>-938.5             </td><td>-0.0018337327999997657</td><td>0.5843028933333333 </td><td>0.5837674334285712</td><td>0.5795993274000001 </td><td>0.005251071327635576 </td><td>-6688.9            </td><td>-0.003097233900000385 </td><td>0.7138724199999998 </td><td>0.7149817701428572 </td><td>0.7125531799333331 </td><td>0.004140353914180082 </td></tr>\n",
       "<tr><td>4      </td><td>2019-06-04 04:00:00</td><td>0.5572042979999999 </td><td>12694.0           </td><td>0.626793525        </td><td>3015.0           </td><td>0.585836421        </td><td>1749.0            </td><td>0.714359918        </td><td>1410.0           </td><td>-989.4             </td><td>3.402100000027275e-05 </td><td>0.5537030449999998 </td><td>0.5569462817142856 </td><td>0.5526329283999999 </td><td>0.006870549714778222 </td><td>-303.3000000000002 </td><td>-0.00034663349999985993</td><td>0.6240859403333333</td><td>0.6270842432857144 </td><td>0.6234213095333333 </td><td>0.005743834735157125 </td><td>-5.2000000000000455</td><td>0.0007170106000002896 </td><td>0.5840857943333333 </td><td>0.5846972088571426</td><td>0.5799983552666668 </td><td>0.005351683941159858 </td><td>-1050.0            </td><td>-6.717390000021695e-05</td><td>0.7133133983333332 </td><td>0.7154692020000002 </td><td>0.7125501110666664 </td><td>0.004162507908252584 </td></tr>\n",
       "<tr><td>5      </td><td>2019-06-04 08:00:00</td><td>0.5577798660000001 </td><td>609.0             </td><td>0.6272968879999999 </td><td>2000.0           </td><td>0.586124205        </td><td>200.0             </td><td>0.715331895        </td><td>655.0            </td><td>3103.8             </td><td>0.001174340600000212  </td><td>0.5564326713333331 </td><td>0.557568619142857  </td><td>0.5529428784666666 </td><td>0.006940616260919977 </td><td>-1992.1000000000004</td><td>0.0007568185000002003  </td><td>0.6261752939999999</td><td>0.6275414754285716 </td><td>0.6236629050666667 </td><td>0.005789310784113856 </td><td>549.9              </td><td>0.0005728846000002674 </td><td>0.5854506076666666 </td><td>0.5855185815714282</td><td>0.5806295208000001 </td><td>0.0054837128612526525</td><td>-617.0             </td><td>8.548979999978279e-05 </td><td>0.7145549249999998 </td><td>0.7155988204285716 </td><td>0.7127086619999996 </td><td>0.004205796111073722 </td></tr>\n",
       "<tr><td>6      </td><td>2019-06-04 12:00:00</td><td>0.558354215        </td><td>11025.0           </td><td>0.627792782        </td><td>20471.0          </td><td>0.586482808        </td><td>450.0             </td><td>0.716322362        </td><td>1400.0           </td><td>3266.5             </td><td>0.0022734222000002635 </td><td>0.5566245273333332 </td><td>0.5564354784285713 </td><td>0.5530582592666666 </td><td>0.0070740184297350284</td><td>-866.3000000000002 </td><td>0.0017755597000002066  </td><td>0.6263294096666666</td><td>0.6264506390000001 </td><td>0.6237451479999999 </td><td>0.005883221290869191 </td><td>188.1              </td><td>0.00113671120000014   </td><td>0.5855465356666666 </td><td>0.5849520111428568</td><td>0.5811586397333334 </td><td>0.005518112480630495 </td><td>342.5              </td><td>0.0009195048999999234 </td><td>0.7144539003333333 </td><td>0.7147556892857144 </td><td>0.7127967912666663 </td><td>0.004295017845475089 </td></tr>\n",
       "<tr><td>7      </td><td>2019-06-04 16:00:00</td><td>0.55949927         </td><td>200.0             </td><td>0.62821066         </td><td>1346.0           </td><td>0.586983907        </td><td>2800.0            </td><td>0.715970552        </td><td>1114.0           </td><td>447.0              </td><td>0.0009806215000003338 </td><td>0.5577794596666665 </td><td>0.5557852382857141 </td><td>0.5533668917999999 </td><td>0.007203660196676008 </td><td>4307.7             </td><td>0.0008217246000000733  </td><td>0.6272943983333333</td><td>0.6257905614285716 </td><td>0.6239907781999999 </td><td>0.005942188418107842 </td><td>-413.2000000000001 </td><td>0.0005117393000001469 </td><td>0.5861478113333333 </td><td>0.5851472992857139</td><td>0.5817891464666667 </td><td>0.005376852646368591 </td><td>291.70000000000005 </td><td>0.0007633220999999635 </td><td>0.7153380583333333 </td><td>0.7144716175714286 </td><td>0.7130827897999996 </td><td>0.004313227247604411 </td></tr>\n",
       "<tr><td>8      </td><td>2019-06-04 20:00:00</td><td>0.560639494        </td><td>1100.0            </td><td>0.629150589        </td><td>7551.0           </td><td>0.5876254479999999 </td><td>400.0             </td><td>0.716645372        </td><td>200.0            </td><td>586.8999999999996  </td><td>0.001381329100000217  </td><td>0.5585444503333332 </td><td>0.5562781119999999 </td><td>0.5539474587333332 </td><td>0.006590333006432898 </td><td>4894.1             </td><td>0.0010033868000001167  </td><td>0.6277667766666667</td><td>0.6260502394285715 </td><td>0.6244244729333333 </td><td>0.0054372825901705   </td><td>352.0              </td><td>0.0007120931000001995 </td><td>0.5865303066666666 </td><td>0.5853835319999997</td><td>0.5825556204000001 </td><td>0.004488681382834833 </td><td>318.4              </td><td>0.0010155339999998736 </td><td>0.7158749363333333 </td><td>0.7145607031428572 </td><td>0.7134163470666662 </td><td>0.003806922539565834 </td></tr>\n",
       "<tr><td>9      </td><td>2019-06-05 00:00:00</td><td>0.562058353        </td><td>400.0             </td><td>0.630350074        </td><td>11486.0          </td><td>0.5882634489999999 </td><td>200.0             </td><td>0.7180760509999999 </td><td>1260.0           </td><td>-4475.6            </td><td>0.0013739534000002385 </td><td>0.5594976596666665 </td><td>0.557938694142857  </td><td>0.5551832978666665 </td><td>0.005969765433304274 </td><td>-2428.1000000000004</td><td>0.000831735700000169   </td><td>0.628384677       </td><td>0.6272824001428573 </td><td>0.6253697847333333 </td><td>0.00489359798626893  </td><td>480.2000000000001  </td><td>0.0006941197000003285 </td><td>0.587030721        </td><td>0.5862240272857139</td><td>0.5836544924000001 </td><td>0.004013081075371899 </td><td>-298.79999999999995</td><td>0.000581942199999741  </td><td>0.7163127619999999 </td><td>0.7154192794285715 </td><td>0.7141478336666663 </td><td>0.0034512325532840113</td></tr>\n",
       "</tbody>\n",
       "</table>"
      ]
     },
     "metadata": {},
     "output_type": "display_data"
    }
   ],
   "source": [
    "df.describe()"
   ]
  },
  {
   "cell_type": "code",
   "execution_count": 8,
   "metadata": {},
   "outputs": [
    {
     "data": {
      "text/plain": [
       "(1111, 33)"
      ]
     },
     "execution_count": 8,
     "metadata": {},
     "output_type": "execute_result"
    }
   ],
   "source": [
    "df.shape"
   ]
  },
  {
   "cell_type": "code",
   "execution_count": 9,
   "metadata": {},
   "outputs": [],
   "source": [
    "# Create a 80/20 train/test splie\n",
    "pct_rows=0.80\n",
    "df_train, df_test = df.split_frame([pct_rows])"
   ]
  },
  {
   "cell_type": "code",
   "execution_count": 10,
   "metadata": {},
   "outputs": [
    {
     "name": "stdout",
     "output_type": "stream",
     "text": [
      "(885, 33)\n",
      "(226, 33)\n"
     ]
    }
   ],
   "source": [
    "print(df_train.shape)\n",
    "print(df_test.shape)"
   ]
  },
  {
   "cell_type": "markdown",
   "metadata": {},
   "source": [
    "## Train Models Using H2O's AutoML"
   ]
  },
  {
   "cell_type": "code",
   "execution_count": 11,
   "metadata": {},
   "outputs": [
    {
     "name": "stdout",
     "output_type": "stream",
     "text": [
      "['volume_A', 'volume_A_Momentum', 'lift_A_Momentum', '3step_MA_lift_A', '7step_MA_lift_A', '15step_MA_lift_A', 'Std_Dev_lift_A']\n"
     ]
    }
   ],
   "source": [
    "# Set the features and target\n",
    "X=['volume_A',  'volume_A_Momentum', 'lift_A_Momentum', '3step_MA_lift_A', '7step_MA_lift_A','15step_MA_lift_A','Std_Dev_lift_A'] \n",
    "print(X)"
   ]
  },
  {
   "cell_type": "code",
   "execution_count": 12,
   "metadata": {},
   "outputs": [],
   "source": [
    "# Set target and predictor variables\n",
    "y ='lift_A'\n"
   ]
  },
  {
   "cell_type": "markdown",
   "metadata": {},
   "source": [
    "## Regression"
   ]
  },
  {
   "cell_type": "code",
   "execution_count": 13,
   "metadata": {},
   "outputs": [],
   "source": [
    "# Set up AutoML\n",
    "\n",
    "aml = H2OAutoML(max_runtime_secs=run_time)"
   ]
  },
  {
   "cell_type": "code",
   "execution_count": 14,
   "metadata": {},
   "outputs": [
    {
     "name": "stdout",
     "output_type": "stream",
     "text": [
      "AutoML progress: |████████████████████████████████████████████████████████| 100%\n"
     ]
    }
   ],
   "source": [
    "model_start_time = time.time()\n",
    "  \n",
    "try:\n",
    "  aml.train(x=X,y=y,training_frame=df_train)  # Change training_frame=train\n",
    "except Exception as e:\n",
    "  logging.critical('aml.train') \n",
    "  h2o.download_all_logs(dirname=logs_path, filename=logfile)      \n",
    "  h2o.cluster().shutdown()   \n",
    "  sys.exit(4)\n"
   ]
  },
  {
   "cell_type": "code",
   "execution_count": 15,
   "metadata": {},
   "outputs": [
    {
     "data": {
      "text/html": [
       "<table>\n",
       "<thead>\n",
       "<tr><th>model_id                                           </th><th style=\"text-align: right;\">  mean_residual_deviance</th><th style=\"text-align: right;\">      rmse</th><th style=\"text-align: right;\">        mse</th><th style=\"text-align: right;\">       mae</th><th style=\"text-align: right;\">     rmsle</th></tr>\n",
       "</thead>\n",
       "<tbody>\n",
       "<tr><td>StackedEnsemble_BestOfFamily_AutoML_20191203_231835</td><td style=\"text-align: right;\">             2.59415e-05</td><td style=\"text-align: right;\">0.00509328</td><td style=\"text-align: right;\">2.59415e-05</td><td style=\"text-align: right;\">0.00374344</td><td style=\"text-align: right;\">0.00294291</td></tr>\n",
       "<tr><td>GBM_grid_1_AutoML_20191203_231835_model_21         </td><td style=\"text-align: right;\">             2.62731e-05</td><td style=\"text-align: right;\">0.00512573</td><td style=\"text-align: right;\">2.62731e-05</td><td style=\"text-align: right;\">0.0037653 </td><td style=\"text-align: right;\">0.00296314</td></tr>\n",
       "<tr><td>GBM_grid_1_AutoML_20191203_231835_model_12         </td><td style=\"text-align: right;\">             2.69463e-05</td><td style=\"text-align: right;\">0.00519098</td><td style=\"text-align: right;\">2.69463e-05</td><td style=\"text-align: right;\">0.00379499</td><td style=\"text-align: right;\">0.00301005</td></tr>\n",
       "<tr><td>XGBoost_grid_1_AutoML_20191203_231835_model_27     </td><td style=\"text-align: right;\">             2.69543e-05</td><td style=\"text-align: right;\">0.00519175</td><td style=\"text-align: right;\">2.69543e-05</td><td style=\"text-align: right;\">0.00384853</td><td style=\"text-align: right;\">0.00300237</td></tr>\n",
       "<tr><td>XGBoost_3_AutoML_20191203_231835                   </td><td style=\"text-align: right;\">             2.71956e-05</td><td style=\"text-align: right;\">0.00521494</td><td style=\"text-align: right;\">2.71956e-05</td><td style=\"text-align: right;\">0.00384477</td><td style=\"text-align: right;\">0.00301476</td></tr>\n",
       "<tr><td>GLM_grid_1_AutoML_20191203_231835_model_1          </td><td style=\"text-align: right;\">             2.75538e-05</td><td style=\"text-align: right;\">0.00524917</td><td style=\"text-align: right;\">2.75538e-05</td><td style=\"text-align: right;\">0.00387151</td><td style=\"text-align: right;\">0.00304381</td></tr>\n",
       "<tr><td>XGBoost_1_AutoML_20191203_231835                   </td><td style=\"text-align: right;\">             2.75738e-05</td><td style=\"text-align: right;\">0.00525108</td><td style=\"text-align: right;\">2.75738e-05</td><td style=\"text-align: right;\">0.00391056</td><td style=\"text-align: right;\">0.00303338</td></tr>\n",
       "<tr><td>XGBoost_grid_1_AutoML_20191203_231835_model_3      </td><td style=\"text-align: right;\">             2.7751e-05 </td><td style=\"text-align: right;\">0.00526792</td><td style=\"text-align: right;\">2.7751e-05 </td><td style=\"text-align: right;\">0.00393885</td><td style=\"text-align: right;\">0.00304682</td></tr>\n",
       "<tr><td>GBM_1_AutoML_20191203_231835                       </td><td style=\"text-align: right;\">             2.77713e-05</td><td style=\"text-align: right;\">0.00526985</td><td style=\"text-align: right;\">2.77713e-05</td><td style=\"text-align: right;\">0.00384863</td><td style=\"text-align: right;\">0.00305073</td></tr>\n",
       "<tr><td>XGBoost_grid_1_AutoML_20191203_231835_model_24     </td><td style=\"text-align: right;\">             2.79627e-05</td><td style=\"text-align: right;\">0.00528798</td><td style=\"text-align: right;\">2.79627e-05</td><td style=\"text-align: right;\">0.00390032</td><td style=\"text-align: right;\">0.00305716</td></tr>\n",
       "</tbody>\n",
       "</table>"
      ]
     },
     "metadata": {},
     "output_type": "display_data"
    },
    {
     "name": "stdout",
     "output_type": "stream",
     "text": [
      "\n"
     ]
    }
   ],
   "source": [
    "print(aml.leaderboard)"
   ]
  },
  {
   "cell_type": "markdown",
   "metadata": {},
   "source": [
    "## RSME comparison and understanding the leader board\n",
    "\n",
    "The best models after running for a little under four minutes is around 0.005 about half of that of the 0.010 RSME that we got our simple MLP in notebook one and a quarter of the  0.017 RSME that we got with a simple MLP with the same independent variables. \n",
    "\n",
    "When we run for a short time, under 10 minutes, out leaderboard with be biased towards trre-based methods as the deep learners take much more time to converge.  It is rare to see deep learners in the top 500 models when we run for less than 5 moinutes.\n",
    "\n",
    "We should still plot the results but before we do that let's discuss a big advantage of these models, model interpretability.\n"
   ]
  },
  {
   "cell_type": "code",
   "execution_count": 16,
   "metadata": {},
   "outputs": [
    {
     "data": {
      "text/plain": [
       "{'StackedEnsemble_BestOfFamily_AutoML_20191203_231835': 0,\n",
       " 'GBM_grid_1_AutoML_20191203_231835_model_21': 1,\n",
       " 'GLM_grid_1_AutoML_20191203_231835_model_1': 5}"
      ]
     },
     "execution_count": 16,
     "metadata": {},
     "output_type": "execute_result"
    }
   ],
   "source": [
    "model_index=0\n",
    "glm_index=0\n",
    "glm_model=''\n",
    "aml_leaderboard_df=aml.leaderboard.as_data_frame()\n",
    "models_dict={}\n",
    "for m in aml_leaderboard_df['model_id']:\n",
    "  models_dict[m]=model_index\n",
    "  if 'StackedEnsemble' not in m:\n",
    "    break \n",
    "  model_index=model_index+1  \n",
    "\n",
    "for m in aml_leaderboard_df['model_id']:\n",
    "  if 'GLM' in m:\n",
    "    models_dict[m]=glm_index\n",
    "    break  \n",
    "  glm_index=glm_index+1     \n",
    "models_dict"
   ]
  },
  {
   "cell_type": "markdown",
   "metadata": {},
   "source": [
    "## Examine the Best Model"
   ]
  },
  {
   "cell_type": "code",
   "execution_count": 17,
   "metadata": {},
   "outputs": [],
   "source": [
    "best_model = h2o.get_model(aml.leaderboard[model_index,'model_id'])"
   ]
  },
  {
   "cell_type": "code",
   "execution_count": 18,
   "metadata": {},
   "outputs": [
    {
     "data": {
      "text/plain": [
       "'gbm'"
      ]
     },
     "execution_count": 18,
     "metadata": {},
     "output_type": "execute_result"
    }
   ],
   "source": [
    "best_model.algo"
   ]
  },
  {
   "cell_type": "code",
   "execution_count": 19,
   "metadata": {},
   "outputs": [],
   "source": [
    "import matplotlib.pyplot as plt\n",
    "%matplotlib inline\n",
    "\n",
    "import warnings\n",
    "import matplotlib.cbook\n",
    "warnings.filterwarnings(\"ignore\", category = matplotlib.cbook.mplDeprecation)"
   ]
  },
  {
   "cell_type": "markdown",
   "metadata": {},
   "source": [
    "## Variable importance plot\n",
    "\n",
    "Variable importance plots in tree-based methods provides a list of the most significant variables in descending order by a measure of the information in each variable. Remember that tree calculates the information content of each variable. A variable importance plot is just a bar chart of each variables information content in decreasing order.\n",
    "\n",
    "It can show actual information estimates or standardized plots like the one below. In a standardized plot the most important variable is always given a value of 1.0. The other variables scores represent their percentage of information relative to the most important variable.\n",
    "\n",
    "Notice that some varibales have almost no information content. Knowing this allows for feature selection by removing unimportant variables. This makes a model more effecient to run and helps prevent overfitting as the unimportant variables can fit noise and, as we saw in notebook one, make strange predictions.\n",
    "\n"
   ]
  },
  {
   "cell_type": "code",
   "execution_count": 20,
   "metadata": {},
   "outputs": [
    {
     "data": {
      "image/png": "[encoded data removed]",
      "text/plain": [
       "<Figure size 1008x720 with 1 Axes>"
      ]
     },
     "metadata": {
      "needs_background": "light"
     },
     "output_type": "display_data"
    }
   ],
   "source": [
    "if best_model.algo in ['gbm','drf','xrt','xgboost']:\n",
    "  best_model.varimp_plot()"
   ]
  },
  {
   "cell_type": "code",
   "execution_count": 21,
   "metadata": {},
   "outputs": [
    {
     "name": "stdout",
     "output_type": "stream",
     "text": [
      "5\n",
      "glm\n"
     ]
    },
    {
     "data": {
      "image/png": "[encoded data removed]",
      "text/plain": [
       "<Figure size 1008x720 with 1 Axes>"
      ]
     },
     "metadata": {
      "needs_background": "light"
     },
     "output_type": "display_data"
    }
   ],
   "source": [
    "if glm_index is not 0:\n",
    "  print(glm_index)\n",
    "  glm_model=h2o.get_model(aml.leaderboard[glm_index,'model_id'])\n",
    "  print(glm_model.algo) \n",
    "  glm_model.std_coef_plot()"
   ]
  },
  {
   "cell_type": "code",
   "execution_count": 22,
   "metadata": {},
   "outputs": [
    {
     "name": "stdout",
     "output_type": "stream",
     "text": [
      "0.001884918106634137\n"
     ]
    }
   ],
   "source": [
    "print(best_model.rmse(train = True))"
   ]
  },
  {
   "cell_type": "code",
   "execution_count": 23,
   "metadata": {},
   "outputs": [],
   "source": [
    "def model_performance_stats(perf):\n",
    "    d={}\n",
    "    try:    \n",
    "      d['mse']=perf.mse()\n",
    "    except:\n",
    "      pass      \n",
    "    try:    \n",
    "      d['rmse']=perf.rmse() \n",
    "    except:\n",
    "      pass      \n",
    "    try:    \n",
    "      d['null_degrees_of_freedom']=perf.null_degrees_of_freedom()\n",
    "    except:\n",
    "      pass      \n",
    "    try:    \n",
    "      d['residual_degrees_of_freedom']=perf.residual_degrees_of_freedom()\n",
    "    except:\n",
    "      pass      \n",
    "    try:    \n",
    "      d['residual_deviance']=perf.residual_deviance() \n",
    "    except:\n",
    "      pass      \n",
    "    try:    \n",
    "      d['null_deviance']=perf.null_deviance() \n",
    "    except:\n",
    "      pass      \n",
    "    try:    \n",
    "      d['aic']=perf.aic() \n",
    "    except:\n",
    "      pass      \n",
    "    try:\n",
    "      d['logloss']=perf.logloss() \n",
    "    except:\n",
    "      pass    \n",
    "    try:\n",
    "      d['auc']=perf.auc()\n",
    "    except:\n",
    "      pass  \n",
    "    try:\n",
    "      d['gini']=perf.gini()\n",
    "    except:\n",
    "      pass    \n",
    "    return d"
   ]
  },
  {
   "cell_type": "code",
   "execution_count": 24,
   "metadata": {},
   "outputs": [
    {
     "data": {
      "text/plain": [
       "{'mse': 3.4770906478101946e-05,\n",
       " 'rmse': 0.005896686058974307,\n",
       " 'null_degrees_of_freedom': None,\n",
       " 'residual_degrees_of_freedom': None,\n",
       " 'residual_deviance': None,\n",
       " 'null_deviance': None}"
      ]
     },
     "execution_count": 24,
     "metadata": {},
     "output_type": "execute_result"
    }
   ],
   "source": [
    "mod_perf=best_model.model_performance(df_test)\n",
    "stats_test={}\n",
    "stats_test=model_performance_stats(mod_perf)\n",
    "stats_test"
   ]
  },
  {
   "cell_type": "code",
   "execution_count": 25,
   "metadata": {},
   "outputs": [
    {
     "name": "stdout",
     "output_type": "stream",
     "text": [
      "gbm prediction progress: |████████████████████████████████████████████████| 100%\n"
     ]
    }
   ],
   "source": [
    "predictions = best_model.predict(df_test)"
   ]
  },
  {
   "cell_type": "code",
   "execution_count": 26,
   "metadata": {},
   "outputs": [
    {
     "data": {
      "text/html": [
       "<div>\n",
       "<style scoped>\n",
       "    .dataframe tbody tr th:only-of-type {\n",
       "        vertical-align: middle;\n",
       "    }\n",
       "\n",
       "    .dataframe tbody tr th {\n",
       "        vertical-align: top;\n",
       "    }\n",
       "\n",
       "    .dataframe thead th {\n",
       "        text-align: right;\n",
       "    }\n",
       "</style>\n",
       "<table border=\"1\" class=\"dataframe\">\n",
       "  <thead>\n",
       "    <tr style=\"text-align: right;\">\n",
       "      <th></th>\n",
       "      <th>predict</th>\n",
       "    </tr>\n",
       "  </thead>\n",
       "  <tbody>\n",
       "    <tr>\n",
       "      <th>0</th>\n",
       "      <td>0.555562</td>\n",
       "    </tr>\n",
       "    <tr>\n",
       "      <th>1</th>\n",
       "      <td>0.573955</td>\n",
       "    </tr>\n",
       "    <tr>\n",
       "      <th>2</th>\n",
       "      <td>0.572241</td>\n",
       "    </tr>\n",
       "    <tr>\n",
       "      <th>3</th>\n",
       "      <td>0.607134</td>\n",
       "    </tr>\n",
       "    <tr>\n",
       "      <th>4</th>\n",
       "      <td>0.607188</td>\n",
       "    </tr>\n",
       "  </tbody>\n",
       "</table>\n",
       "</div>"
      ],
      "text/plain": [
       "    predict\n",
       "0  0.555562\n",
       "1  0.573955\n",
       "2  0.572241\n",
       "3  0.607134\n",
       "4  0.607188"
      ]
     },
     "execution_count": 26,
     "metadata": {},
     "output_type": "execute_result"
    }
   ],
   "source": [
    "y_pred=h2o.as_list(predictions)\n",
    "y_pred[0:5]"
   ]
  },
  {
   "cell_type": "code",
   "execution_count": 27,
   "metadata": {},
   "outputs": [
    {
     "data": {
      "text/html": [
       "<div>\n",
       "<style scoped>\n",
       "    .dataframe tbody tr th:only-of-type {\n",
       "        vertical-align: middle;\n",
       "    }\n",
       "\n",
       "    .dataframe tbody tr th {\n",
       "        vertical-align: top;\n",
       "    }\n",
       "\n",
       "    .dataframe thead th {\n",
       "        text-align: right;\n",
       "    }\n",
       "</style>\n",
       "<table border=\"1\" class=\"dataframe\">\n",
       "  <thead>\n",
       "    <tr style=\"text-align: right;\">\n",
       "      <th></th>\n",
       "      <th>lift_A</th>\n",
       "    </tr>\n",
       "  </thead>\n",
       "  <tbody>\n",
       "    <tr>\n",
       "      <th>0</th>\n",
       "      <td>0.557204</td>\n",
       "    </tr>\n",
       "    <tr>\n",
       "      <th>1</th>\n",
       "      <td>0.571237</td>\n",
       "    </tr>\n",
       "    <tr>\n",
       "      <th>2</th>\n",
       "      <td>0.570690</td>\n",
       "    </tr>\n",
       "    <tr>\n",
       "      <th>3</th>\n",
       "      <td>0.602371</td>\n",
       "    </tr>\n",
       "    <tr>\n",
       "      <th>4</th>\n",
       "      <td>0.603579</td>\n",
       "    </tr>\n",
       "  </tbody>\n",
       "</table>\n",
       "</div>"
      ],
      "text/plain": [
       "     lift_A\n",
       "0  0.557204\n",
       "1  0.571237\n",
       "2  0.570690\n",
       "3  0.602371\n",
       "4  0.603579"
      ]
     },
     "execution_count": 27,
     "metadata": {},
     "output_type": "execute_result"
    }
   ],
   "source": [
    "y_test=h2o.as_list(df_test['lift_A'])\n",
    "y_test[0:5]"
   ]
  },
  {
   "cell_type": "markdown",
   "metadata": {},
   "source": [
    "##  Visualizing the fit\n",
    "\n",
    "A RSME of 0.005 is useful in comparing thousands on models automatically but once we are considering a few models visualizing the fit helps build inuition.  Here we see the predicted values fit the craggy, non-linear curve pretty tightly."
   ]
  },
  {
   "cell_type": "code",
   "execution_count": 28,
   "metadata": {},
   "outputs": [
    {
     "data": {
      "image/png": "[encoded data removed]",
      "text/plain": [
       "<Figure size 720x360 with 1 Axes>"
      ]
     },
     "metadata": {
      "needs_background": "light"
     },
     "output_type": "display_data"
    }
   ],
   "source": [
    "import matplotlib.pyplot as plt\n",
    "plt.figure(figsize=(10,5))\n",
    "plt.plot(y_pred, color='r', label='Predicted lift Channel A')\n",
    "plt.plot(y_test, color='g', label='Actual lift Channel A')\n",
    "plt.legend()\n",
    "plt.show()"
   ]
  },
  {
   "cell_type": "code",
   "execution_count": 29,
   "metadata": {},
   "outputs": [
    {
     "name": "stdout",
     "output_type": "stream",
     "text": [
      "0.7811131998101696\n"
     ]
    }
   ],
   "source": [
    "y_train_mean=df_train['lift_A'].mean()[0]\n",
    "print(y_train_mean)\n"
   ]
  },
  {
   "cell_type": "code",
   "execution_count": 30,
   "metadata": {},
   "outputs": [
    {
     "data": {
      "text/plain": [
       "array([[0.7811132],\n",
       "       [0.7811132],\n",
       "       [0.7811132],\n",
       "       [0.7811132],\n",
       "       [0.7811132]])"
      ]
     },
     "execution_count": 30,
     "metadata": {},
     "output_type": "execute_result"
    }
   ],
   "source": [
    "y_null = np.zeros_like(y_test, dtype=float)\n",
    "y_null.fill(y_train_mean)\n",
    "y_null[0:5]"
   ]
  },
  {
   "cell_type": "code",
   "execution_count": 31,
   "metadata": {},
   "outputs": [
    {
     "name": "stdout",
     "output_type": "stream",
     "text": [
      "0.09154998080858842\n"
     ]
    }
   ],
   "source": [
    "from sklearn import metrics\n",
    "null_accuracy=np.sqrt(metrics.mean_squared_error(y_test,y_null))\n",
    "print(null_accuracy)"
   ]
  },
  {
   "cell_type": "markdown",
   "metadata": {},
   "source": [
    "##  Visualizing the fit with the null model\n",
    "\n",
    " Here we see the predicted values fit the craggy, non-linear curve pretty tightly as before but also see that this model fits the data much better than the null model."
   ]
  },
  {
   "cell_type": "code",
   "execution_count": 32,
   "metadata": {},
   "outputs": [
    {
     "data": {
      "image/png": "[encoded data removed]",
      "text/plain": [
       "<Figure size 720x360 with 1 Axes>"
      ]
     },
     "metadata": {
      "needs_background": "light"
     },
     "output_type": "display_data"
    }
   ],
   "source": [
    "import matplotlib.pyplot as plt\n",
    "plt.figure(figsize=(10,5))\n",
    "plt.plot(y_pred, color='r', label='Predicted lift Channel A')\n",
    "plt.plot(y_test, color='g', label='Actual lift Channel A')\n",
    "plt.plot(y_null, color='k', label='Null model lift Channel A')\n",
    "plt.legend()\n",
    "plt.show()"
   ]
  },
  {
   "cell_type": "code",
   "execution_count": 33,
   "metadata": {},
   "outputs": [
    {
     "data": {
      "text/plain": [
       "['volume_A',\n",
       " 'volume_A_Momentum',\n",
       " 'lift_A_Momentum',\n",
       " '3step_MA_lift_A',\n",
       " '7step_MA_lift_A',\n",
       " '15step_MA_lift_A',\n",
       " 'Std_Dev_lift_A']"
      ]
     },
     "execution_count": 33,
     "metadata": {},
     "output_type": "execute_result"
    }
   ],
   "source": [
    "X"
   ]
  },
  {
   "cell_type": "markdown",
   "metadata": {},
   "source": [
    "## Partial Dependence Plots\n",
    "\n",
    "Partial dependence plots (PDP) show the dependence between the target response and a set of features, marginalizing over the values of all other features. Intuitively, we can interpret the partial dependence as the expected target response as a function of the feature.\n",
    "\n",
    "The partial dependence plot gives a graphical depiction of the marginal effect of a variable on the response. The effect of a variable is measured in change in the mean response. This helps one answer the question of how changing a variables values would change the outcome.\n",
    "\n",
    "The partial dependence plots show only impact of single variable if others are kept constant. But in many cases, there is interaction between variables. Never-the-less, they are very useful in estimating whether, for example, doubling some predictor varible will double a response or whether that predictor varible is already saturated.  \n",
    "\n"
   ]
  },
  {
   "cell_type": "code",
   "execution_count": 34,
   "metadata": {},
   "outputs": [
    {
     "name": "stdout",
     "output_type": "stream",
     "text": [
      "PartialDependencePlot progress: |█████████████████████████████████████████| 100%\n",
      "\n",
      "PartialDependence: Partial Dependence Plot of model GBM_grid_1_AutoML_20191203_231835_model_21 on column 'lift_A_Momentum'\n"
     ]
    },
    {
     "data": {
      "text/html": [
       "<div>\n",
       "<style scoped>\n",
       "    .dataframe tbody tr th:only-of-type {\n",
       "        vertical-align: middle;\n",
       "    }\n",
       "\n",
       "    .dataframe tbody tr th {\n",
       "        vertical-align: top;\n",
       "    }\n",
       "\n",
       "    .dataframe thead th {\n",
       "        text-align: right;\n",
       "    }\n",
       "</style>\n",
       "<table border=\"1\" class=\"dataframe\">\n",
       "  <thead>\n",
       "    <tr style=\"text-align: right;\">\n",
       "      <th></th>\n",
       "      <th>lift_a_momentum</th>\n",
       "      <th>mean_response</th>\n",
       "      <th>stddev_response</th>\n",
       "      <th>std_error_mean_response</th>\n",
       "    </tr>\n",
       "  </thead>\n",
       "  <tbody>\n",
       "    <tr>\n",
       "      <th>0</th>\n",
       "      <td>-0.016094</td>\n",
       "      <td>0.778385</td>\n",
       "      <td>0.094482</td>\n",
       "      <td>0.002835</td>\n",
       "    </tr>\n",
       "    <tr>\n",
       "      <th>1</th>\n",
       "      <td>-0.014427</td>\n",
       "      <td>0.778406</td>\n",
       "      <td>0.094445</td>\n",
       "      <td>0.002833</td>\n",
       "    </tr>\n",
       "    <tr>\n",
       "      <th>2</th>\n",
       "      <td>-0.012759</td>\n",
       "      <td>0.778470</td>\n",
       "      <td>0.094340</td>\n",
       "      <td>0.002830</td>\n",
       "    </tr>\n",
       "    <tr>\n",
       "      <th>3</th>\n",
       "      <td>-0.011092</td>\n",
       "      <td>0.778691</td>\n",
       "      <td>0.093953</td>\n",
       "      <td>0.002819</td>\n",
       "    </tr>\n",
       "    <tr>\n",
       "      <th>4</th>\n",
       "      <td>-0.009424</td>\n",
       "      <td>0.778790</td>\n",
       "      <td>0.093789</td>\n",
       "      <td>0.002814</td>\n",
       "    </tr>\n",
       "    <tr>\n",
       "      <th>5</th>\n",
       "      <td>-0.007757</td>\n",
       "      <td>0.778844</td>\n",
       "      <td>0.093775</td>\n",
       "      <td>0.002813</td>\n",
       "    </tr>\n",
       "    <tr>\n",
       "      <th>6</th>\n",
       "      <td>-0.006089</td>\n",
       "      <td>0.778725</td>\n",
       "      <td>0.093722</td>\n",
       "      <td>0.002812</td>\n",
       "    </tr>\n",
       "    <tr>\n",
       "      <th>7</th>\n",
       "      <td>-0.004422</td>\n",
       "      <td>0.778753</td>\n",
       "      <td>0.093236</td>\n",
       "      <td>0.002797</td>\n",
       "    </tr>\n",
       "    <tr>\n",
       "      <th>8</th>\n",
       "      <td>-0.002754</td>\n",
       "      <td>0.780038</td>\n",
       "      <td>0.093156</td>\n",
       "      <td>0.002795</td>\n",
       "    </tr>\n",
       "    <tr>\n",
       "      <th>9</th>\n",
       "      <td>-0.001087</td>\n",
       "      <td>0.780606</td>\n",
       "      <td>0.092970</td>\n",
       "      <td>0.002789</td>\n",
       "    </tr>\n",
       "    <tr>\n",
       "      <th>10</th>\n",
       "      <td>0.000581</td>\n",
       "      <td>0.782012</td>\n",
       "      <td>0.093333</td>\n",
       "      <td>0.002800</td>\n",
       "    </tr>\n",
       "    <tr>\n",
       "      <th>11</th>\n",
       "      <td>0.002248</td>\n",
       "      <td>0.782634</td>\n",
       "      <td>0.093337</td>\n",
       "      <td>0.002800</td>\n",
       "    </tr>\n",
       "    <tr>\n",
       "      <th>12</th>\n",
       "      <td>0.003916</td>\n",
       "      <td>0.783633</td>\n",
       "      <td>0.093749</td>\n",
       "      <td>0.002813</td>\n",
       "    </tr>\n",
       "    <tr>\n",
       "      <th>13</th>\n",
       "      <td>0.005583</td>\n",
       "      <td>0.783536</td>\n",
       "      <td>0.093632</td>\n",
       "      <td>0.002809</td>\n",
       "    </tr>\n",
       "    <tr>\n",
       "      <th>14</th>\n",
       "      <td>0.007251</td>\n",
       "      <td>0.783871</td>\n",
       "      <td>0.093416</td>\n",
       "      <td>0.002803</td>\n",
       "    </tr>\n",
       "    <tr>\n",
       "      <th>15</th>\n",
       "      <td>0.008918</td>\n",
       "      <td>0.783867</td>\n",
       "      <td>0.093365</td>\n",
       "      <td>0.002801</td>\n",
       "    </tr>\n",
       "    <tr>\n",
       "      <th>16</th>\n",
       "      <td>0.010586</td>\n",
       "      <td>0.783907</td>\n",
       "      <td>0.093354</td>\n",
       "      <td>0.002801</td>\n",
       "    </tr>\n",
       "    <tr>\n",
       "      <th>17</th>\n",
       "      <td>0.012253</td>\n",
       "      <td>0.783954</td>\n",
       "      <td>0.093294</td>\n",
       "      <td>0.002799</td>\n",
       "    </tr>\n",
       "    <tr>\n",
       "      <th>18</th>\n",
       "      <td>0.013920</td>\n",
       "      <td>0.783970</td>\n",
       "      <td>0.093277</td>\n",
       "      <td>0.002798</td>\n",
       "    </tr>\n",
       "    <tr>\n",
       "      <th>19</th>\n",
       "      <td>0.015588</td>\n",
       "      <td>0.783946</td>\n",
       "      <td>0.093313</td>\n",
       "      <td>0.002800</td>\n",
       "    </tr>\n",
       "  </tbody>\n",
       "</table>\n",
       "</div>"
      ],
      "text/plain": [
       "    lift_a_momentum  mean_response  stddev_response  std_error_mean_response\n",
       "0         -0.016094       0.778385         0.094482                 0.002835\n",
       "1         -0.014427       0.778406         0.094445                 0.002833\n",
       "2         -0.012759       0.778470         0.094340                 0.002830\n",
       "3         -0.011092       0.778691         0.093953                 0.002819\n",
       "4         -0.009424       0.778790         0.093789                 0.002814\n",
       "5         -0.007757       0.778844         0.093775                 0.002813\n",
       "6         -0.006089       0.778725         0.093722                 0.002812\n",
       "7         -0.004422       0.778753         0.093236                 0.002797\n",
       "8         -0.002754       0.780038         0.093156                 0.002795\n",
       "9         -0.001087       0.780606         0.092970                 0.002789\n",
       "10         0.000581       0.782012         0.093333                 0.002800\n",
       "11         0.002248       0.782634         0.093337                 0.002800\n",
       "12         0.003916       0.783633         0.093749                 0.002813\n",
       "13         0.005583       0.783536         0.093632                 0.002809\n",
       "14         0.007251       0.783871         0.093416                 0.002803\n",
       "15         0.008918       0.783867         0.093365                 0.002801\n",
       "16         0.010586       0.783907         0.093354                 0.002801\n",
       "17         0.012253       0.783954         0.093294                 0.002799\n",
       "18         0.013920       0.783970         0.093277                 0.002798\n",
       "19         0.015588       0.783946         0.093313                 0.002800"
      ]
     },
     "metadata": {},
     "output_type": "display_data"
    },
    {
     "data": {
      "text/plain": [
       "[]"
      ]
     },
     "execution_count": 34,
     "metadata": {},
     "output_type": "execute_result"
    },
    {
     "data": {
      "image/png": "[encoded data removed]",
      "text/plain": [
       "<Figure size 504x720 with 1 Axes>"
      ]
     },
     "metadata": {
      "needs_background": "light"
     },
     "output_type": "display_data"
    }
   ],
   "source": [
    "best_model.partial_plot(df, cols=['lift_A_Momentum'])"
   ]
  },
  {
   "cell_type": "code",
   "execution_count": 35,
   "metadata": {},
   "outputs": [
    {
     "name": "stdout",
     "output_type": "stream",
     "text": [
      "PartialDependencePlot progress: |█████████████████████████████████████████| 100%\n",
      "\n",
      "PartialDependence: Partial Dependence Plot of model GBM_grid_1_AutoML_20191203_231835_model_21 on column '3step_MA_lift_A'\n"
     ]
    },
    {
     "data": {
      "text/html": [
       "<div>\n",
       "<style scoped>\n",
       "    .dataframe tbody tr th:only-of-type {\n",
       "        vertical-align: middle;\n",
       "    }\n",
       "\n",
       "    .dataframe tbody tr th {\n",
       "        vertical-align: top;\n",
       "    }\n",
       "\n",
       "    .dataframe thead th {\n",
       "        text-align: right;\n",
       "    }\n",
       "</style>\n",
       "<table border=\"1\" class=\"dataframe\">\n",
       "  <thead>\n",
       "    <tr style=\"text-align: right;\">\n",
       "      <th></th>\n",
       "      <th>3step_ma_lift_a</th>\n",
       "      <th>mean_response</th>\n",
       "      <th>stddev_response</th>\n",
       "      <th>std_error_mean_response</th>\n",
       "    </tr>\n",
       "  </thead>\n",
       "  <tbody>\n",
       "    <tr>\n",
       "      <th>0</th>\n",
       "      <td>0.553703</td>\n",
       "      <td>0.698320</td>\n",
       "      <td>0.057266</td>\n",
       "      <td>0.001718</td>\n",
       "    </tr>\n",
       "    <tr>\n",
       "      <th>1</th>\n",
       "      <td>0.571686</td>\n",
       "      <td>0.699850</td>\n",
       "      <td>0.056882</td>\n",
       "      <td>0.001707</td>\n",
       "    </tr>\n",
       "    <tr>\n",
       "      <th>2</th>\n",
       "      <td>0.589669</td>\n",
       "      <td>0.704336</td>\n",
       "      <td>0.056223</td>\n",
       "      <td>0.001687</td>\n",
       "    </tr>\n",
       "    <tr>\n",
       "      <th>3</th>\n",
       "      <td>0.607652</td>\n",
       "      <td>0.706527</td>\n",
       "      <td>0.055615</td>\n",
       "      <td>0.001669</td>\n",
       "    </tr>\n",
       "    <tr>\n",
       "      <th>4</th>\n",
       "      <td>0.625635</td>\n",
       "      <td>0.715148</td>\n",
       "      <td>0.051205</td>\n",
       "      <td>0.001536</td>\n",
       "    </tr>\n",
       "    <tr>\n",
       "      <th>5</th>\n",
       "      <td>0.643618</td>\n",
       "      <td>0.720038</td>\n",
       "      <td>0.050760</td>\n",
       "      <td>0.001523</td>\n",
       "    </tr>\n",
       "    <tr>\n",
       "      <th>6</th>\n",
       "      <td>0.661601</td>\n",
       "      <td>0.726906</td>\n",
       "      <td>0.047361</td>\n",
       "      <td>0.001421</td>\n",
       "    </tr>\n",
       "    <tr>\n",
       "      <th>7</th>\n",
       "      <td>0.679583</td>\n",
       "      <td>0.741487</td>\n",
       "      <td>0.047212</td>\n",
       "      <td>0.001416</td>\n",
       "    </tr>\n",
       "    <tr>\n",
       "      <th>8</th>\n",
       "      <td>0.697566</td>\n",
       "      <td>0.744141</td>\n",
       "      <td>0.047381</td>\n",
       "      <td>0.001422</td>\n",
       "    </tr>\n",
       "    <tr>\n",
       "      <th>9</th>\n",
       "      <td>0.715549</td>\n",
       "      <td>0.749557</td>\n",
       "      <td>0.046755</td>\n",
       "      <td>0.001403</td>\n",
       "    </tr>\n",
       "    <tr>\n",
       "      <th>10</th>\n",
       "      <td>0.733532</td>\n",
       "      <td>0.752082</td>\n",
       "      <td>0.046513</td>\n",
       "      <td>0.001395</td>\n",
       "    </tr>\n",
       "    <tr>\n",
       "      <th>11</th>\n",
       "      <td>0.751515</td>\n",
       "      <td>0.764442</td>\n",
       "      <td>0.045812</td>\n",
       "      <td>0.001374</td>\n",
       "    </tr>\n",
       "    <tr>\n",
       "      <th>12</th>\n",
       "      <td>0.769498</td>\n",
       "      <td>0.779923</td>\n",
       "      <td>0.044047</td>\n",
       "      <td>0.001321</td>\n",
       "    </tr>\n",
       "    <tr>\n",
       "      <th>13</th>\n",
       "      <td>0.787481</td>\n",
       "      <td>0.786012</td>\n",
       "      <td>0.044165</td>\n",
       "      <td>0.001325</td>\n",
       "    </tr>\n",
       "    <tr>\n",
       "      <th>14</th>\n",
       "      <td>0.805464</td>\n",
       "      <td>0.793565</td>\n",
       "      <td>0.045486</td>\n",
       "      <td>0.001365</td>\n",
       "    </tr>\n",
       "    <tr>\n",
       "      <th>15</th>\n",
       "      <td>0.823447</td>\n",
       "      <td>0.797229</td>\n",
       "      <td>0.045868</td>\n",
       "      <td>0.001376</td>\n",
       "    </tr>\n",
       "    <tr>\n",
       "      <th>16</th>\n",
       "      <td>0.841430</td>\n",
       "      <td>0.810729</td>\n",
       "      <td>0.045090</td>\n",
       "      <td>0.001353</td>\n",
       "    </tr>\n",
       "    <tr>\n",
       "      <th>17</th>\n",
       "      <td>0.859413</td>\n",
       "      <td>0.819371</td>\n",
       "      <td>0.048165</td>\n",
       "      <td>0.001445</td>\n",
       "    </tr>\n",
       "    <tr>\n",
       "      <th>18</th>\n",
       "      <td>0.877395</td>\n",
       "      <td>0.828093</td>\n",
       "      <td>0.049873</td>\n",
       "      <td>0.001496</td>\n",
       "    </tr>\n",
       "    <tr>\n",
       "      <th>19</th>\n",
       "      <td>0.895378</td>\n",
       "      <td>0.831482</td>\n",
       "      <td>0.050541</td>\n",
       "      <td>0.001516</td>\n",
       "    </tr>\n",
       "  </tbody>\n",
       "</table>\n",
       "</div>"
      ],
      "text/plain": [
       "    3step_ma_lift_a  mean_response  stddev_response  std_error_mean_response\n",
       "0          0.553703       0.698320         0.057266                 0.001718\n",
       "1          0.571686       0.699850         0.056882                 0.001707\n",
       "2          0.589669       0.704336         0.056223                 0.001687\n",
       "3          0.607652       0.706527         0.055615                 0.001669\n",
       "4          0.625635       0.715148         0.051205                 0.001536\n",
       "5          0.643618       0.720038         0.050760                 0.001523\n",
       "6          0.661601       0.726906         0.047361                 0.001421\n",
       "7          0.679583       0.741487         0.047212                 0.001416\n",
       "8          0.697566       0.744141         0.047381                 0.001422\n",
       "9          0.715549       0.749557         0.046755                 0.001403\n",
       "10         0.733532       0.752082         0.046513                 0.001395\n",
       "11         0.751515       0.764442         0.045812                 0.001374\n",
       "12         0.769498       0.779923         0.044047                 0.001321\n",
       "13         0.787481       0.786012         0.044165                 0.001325\n",
       "14         0.805464       0.793565         0.045486                 0.001365\n",
       "15         0.823447       0.797229         0.045868                 0.001376\n",
       "16         0.841430       0.810729         0.045090                 0.001353\n",
       "17         0.859413       0.819371         0.048165                 0.001445\n",
       "18         0.877395       0.828093         0.049873                 0.001496\n",
       "19         0.895378       0.831482         0.050541                 0.001516"
      ]
     },
     "metadata": {},
     "output_type": "display_data"
    },
    {
     "data": {
      "text/plain": [
       "[]"
      ]
     },
     "execution_count": 35,
     "metadata": {},
     "output_type": "execute_result"
    },
    {
     "data": {
      "image/png": "[encoded data removed]",
      "text/plain": [
       "<Figure size 504x720 with 1 Axes>"
      ]
     },
     "metadata": {
      "needs_background": "light"
     },
     "output_type": "display_data"
    }
   ],
   "source": [
    "best_model.partial_plot(df, cols=['3step_MA_lift_A'])"
   ]
  },
  {
   "cell_type": "markdown",
   "metadata": {},
   "source": [
    "## Shutdown H2O Cluster"
   ]
  },
  {
   "cell_type": "code",
   "execution_count": 36,
   "metadata": {},
   "outputs": [
    {
     "name": "stdout",
     "output_type": "stream",
     "text": [
      "H2O session _sid_95d0 closed.\n"
     ]
    }
   ],
   "source": [
    "h2o.cluster().shutdown()"
   ]
  },
  {
   "cell_type": "markdown",
   "metadata": {},
   "source": [
    "## Todo\n",
    "\n",
    "The above code should provide you with a starting framework for incorporating more complex features into a model. Here are a few things you can try out:\n",
    "\n",
    "- Try the analysis on different channels.\n",
    "\n",
    "- Experiment with different run times.\n",
    "\n",
    "- Rerun with only the important variables.\n",
    "\n",
    "- Use more realistic features such as buying seasons, weekend versus weekday.\n",
    "\n",
    "- Explore the partial dependcies of the important variables.\n"
   ]
  },
  {
   "cell_type": "markdown",
   "metadata": {},
   "source": [
    "<div style=\"text-align: right\">NEU Skunkworks AI workshop at Northeastern with EM Lyon Business School</div>\n",
    "<div style=\"text-align: right\">Contributors</div>\n",
    "<div style=\"text-align: right\">Srijoni Biswas, Zixiao Wang, Abhishek Dabas, Kailash Dhondoo Nadkar,Abhi Patodi \n",
    "</div>    \n",
    "<div style=\"text-align: right\"> 3 December 2019</div>"
   ]
  },
  {
   "cell_type": "markdown",
   "metadata": {},
   "source": [
    "###  Appendix - Generalized Linear Model (GLM)  \n",
    "\n",
    "The generalized linear model (GLM) is a flexible generalization of ordinary linear regression that allows for response variables that have error distribution models other than a normal distribution. The GLM generalizes linear regression by allowing the linear model to be related to the response variable via a link function and by allowing the magnitude of the variance of each measurement to be a function of its predicted value.\n",
    "\n",
    "Generalized Linear Models (GLM) estimate regression models for various probability distributions. In addition to the Gaussian (i.e. normal) distribution, these include Poisson, binomial, and gamma distributions. This can be used either for prediction or classification.\n",
    "\n",
    "Overfitting is prevented using L1, L2 and elastic-net regularization.\n",
    "\n",
    "While not easily parallelable, maximum likelihood estimates of coefficients is very efficient.\n",
    "\n",
    "GLMs are highly interpretable as the coefficients (i.e. the slopes) as they directly related the degree the dependent variable changes in response to a change in each independent variable.\n",
    "\n",
    "For these data and the regression case, we can think of this as linear regression. to \n",
    "In linear regression, the use of the least-squares estimator is justified by the Gauss--Markov theorem, which does not assume that the distribution is normal. From the perspective of generalized linear models, however, it is useful to suppose that the distribution function is the normal distribution with constant variance and the link function is the identity, which is\n",
    "the canonical link if the variance is known.\n",
    "\n",
    "In our case, we will assume that the the distribution of errors is normal and that the link function is the identity, which means the will will be performing simple linear regression.   Linear regression predicts the response variable $y$ assuming it has a linear relationship with predictor variable(s) $x$ or $x_1, x_2, ,,, x_n$.\n",
    "\n",
    "$$y = \\beta_0 + \\beta_1 x + \\varepsilon .$$\n",
    "\n",
    "*Simple* regression use only one predictor variable $x$. *Mulitple* regression uses a set of predictor variables $x_1, x_2, ,,, x_n$.\n",
    "\n",
    "The *response variable* $y$ is also called the regressand, forecast, dependent or explained variable. The *predictor variable* $x$ is also called the regressor, independent or explanatory variable.\n",
    "\n",
    "The parameters $\\beta_0$ and $\\beta_1$ determine the intercept and the slope of the line respectively. The intercept $\\beta_0$ represents the predicted value of $y$ when $x=0$. The slope $\\beta_1$ represents the predicted increase in $Y$ resulting from a one unit increase in $x$.\n",
    "\n",
    "Note that the regression equation is just our famliar equation for a line with an error term.\n",
    "\n",
    "The equation for a line:  \n",
    "$$ Y = bX + a $$\n",
    "\n",
    "$$y = \\beta_0 + \\beta_1 x $$\n",
    "\n",
    "The equation for a line with an error term:  \n",
    "\n",
    "$$ Y = bX + a + \\varepsilon $$\n",
    "\n",
    "$$y = \\beta_0 + \\beta_1 x + \\varepsilon .$$\n",
    "\n",
    "- $b$ = $\\beta_1$ = slope\n",
    "- $a$ = $\\beta_0$ = $Y$ intercept\n",
    "- $\\varepsilon$ = error term\n",
    "\n",
    "\n",
    "We can think of each observation $y_i$ consisting of the systematic or explained part of the model, $\\beta_0+\\beta_1x_i$, and the random *error*, $\\varepsilon_i$.\n",
    "\n",
    "_Zero Slope_\n",
    "\n",
    "Note that when  $\\beta_1 = 0$ then response does not change as the predictor changes.\n",
    "\n",
    "For multiple regression $x$ is a $X$ to produce a system of equations:  \n",
    "\n",
    "$$ Y = \\beta_0 + \\beta_1 X  + \\varepsilon $$\n",
    "\n",
    "_The error $\\varepsilon_i$_\n",
    "\n",
    "The error term is a catch-all for anything that may affect $y_i$ other than $x_i$. We assume that these errors:\n",
    "\n",
    "* have mean zero; otherwise the forecasts will be systematically biased.\n",
    "* statistical independence of the errors (in particular, no correlation between consecutive errors in the case of time series data).\n",
    "* homoscedasticity (constant variance) of the errors.\n",
    "* normality of the error distribution.\n",
    "\n",
    "If any of these assumptions is violated then the robustness of the model to be taken with a grain of salt.\n",
    "\n",
    "\n",
    "_Least squares estimation_\n",
    "\n",
    "In a linear model, the values of $\\beta_0$ and $\\beta_1$. These need to be estimated from the data. We call this *fitting a model*.\n",
    "\n",
    "The least squares method iis the most common way of estimating $\\beta_0$ and $\\beta_1$ by minimizing the sum of the squared errors. The values of $\\beta_0$ and $\\beta_1$ are chosen so that that minimize\n",
    "\n",
    "$$\\sum_{i=1}^N \\varepsilon_i^2 = \\sum_{i=1}^N (y_i - \\beta_0 - \\beta_1x_i)^2. $$\n",
    "\n",
    "\n",
    "Using mathematical calculus, it can be shown that the resulting **least squares estimators** are\n",
    "\n",
    "$$\\hat{\\beta}_1=\\frac{ \\sum_{i=1}^{N}(y_i-\\bar{y})(x_i-\\bar{x})}{\\sum_{i=1}^{N}(x_i-\\bar{x})^2} $$ \n",
    "\n",
    "and\n",
    "\n",
    "$$\\hat{\\beta}_0=\\bar{y}-\\hat{\\beta}_1\\bar{x}, $$\n",
    "\n",
    "where $\\bar{x}$ is the average of the $x$ observations and $\\bar{y}$ is the average of the $y$ observations. The estimated line is known as the *regression line*.\n",
    "\n",
    "To solve least squares with gradient descent or stochastic gradient descent (SGD) or losed Form (set derivatives equal to zero and solve for parameters).\n",
    "\n",
    "_Fitted values and residuals_\n",
    "\n",
    "The response values of $y$ obtained from the observed $x$ values are\n",
    "called *fitted values*: $\\hat{y}_i=\\hat{\\beta}_0+\\hat{\\beta}_1x_i$, for\n",
    "$i=1,\\dots,N$. Each $\\hat{y}_i$ is the point on the regression\n",
    "line corresponding to $x_i$.\n",
    "\n",
    "The difference between the observed $y$ values and the corresponding fitted values are the *residuals*:\n",
    "\n",
    "$$e_i = y_i - \\hat{y}_i = y_i -\\hat{\\beta}_0-\\hat{\\beta}_1x_i. $$\n",
    "\n",
    "The residuals have some useful properties including the following two:\n",
    "\n",
    "$$\\sum_{i=1}^{N}{e_i}=0 \\quad\\text{and}\\quad \\sum_{i=1}^{N}{x_ie_i}=0. $$\n",
    "\n",
    "Residuals are the errors that we cannot predict.Residuals are highly useful for studying whether a given regression model is an appropriate statistical technique for analyzing the relationship.\n"
   ]
  },
  {
   "cell_type": "markdown",
   "metadata": {},
   "source": [
    "###  Appendix - _Decision-tree based methods (DRF, XRT, GBM, and XGBoost)_\n",
    "\n",
    "\n",
    "**What is a decision-tree?**\n",
    "\n",
    "What is a tree?  In mathematics, and more specifically in graph theory, a [tree](https://en.wikipedia.org/wiki/Tree_(graph_theory)) is a directed or an undirected graph in which any two vertices are connected by exactly one path. In other words, any acyclic connected graph is a tree.\n",
    "\n",
    "A tree is an undirected graph G that satisfies any of the following equivalent conditions:  \n",
    "* G is connected and has no cycles.   \n",
    "* G is acyclic, and a simple cycle is formed if any edge is added to G.  \n",
    "* G is connected, but is not connected if any single edge is removed from G.  \n",
    "\n",
    "A rooted tree is a tree in which one vertex/node has been designated the root. The edges of a rooted tree can be assigned a natural orientation, either away from or towards the root, in which case the structure becomes a directed rooted tree. \n",
    "\n",
    "A vertex/node that does not split is called Leaf or Terminal node.     \n",
    "\n",
    "A sub section of entire tree is called branch or sub-tree.  \n",
    "\n",
    "A vertex/node, which is divided into sub-nodes is called parent node of sub-nodes where as sub-nodes are the child of parent node.  \n",
    "\n",
    "A [decision tree](https://en.wikipedia.org/wiki/Decision_tree) is a [supervised learning](https://en.wikipedia.org/wiki/Supervised_learning) algorithm that uses a tree-like graph or model of decisions and their outcomes.  The decision tree can be linearized into decision rules, where the outcome is the contents of the leaf node, and the conditions along the path form a conjunction in the if clause. In general, the rules have the form:\n",
    "\n",
    "$if \\quad condition1 \\quad and \\quad condition2 \\quad and \\quad condition3 \\quad then \\quad outcome$\n",
    "\n",
    "Each node in the tree is a decisions/tests. Each path from the tree root to a leaf corresponds to a conjunction of attribute decisions/tests. The tree itself corresponds to a disjunction of these conjunctions.\n",
    "\n",
    "**The 20 Questions of machine learning**  \n",
    "\n",
    "In the traditional [20 Questions](https://en.wikipedia.org/wiki/Twenty_Questions) game, one player is chosen to be the answerer. That person chooses a subject (object) but does not reveal this to the others. All other players are questioners. They each take turns asking a question which can be answered with a simple \"Yes\" or \"No.\" The questioners try to guess the answerers subject (object).\n",
    "\n",
    "The Two Rules \n",
    "\n",
    "  Rule 1: Questioners ask Yes-or-No questions     \n",
    "  Rule 2: Answerer responds with a Yes or a No    \n",
    "\n",
    "Traditionally,first question is something like the following: \n",
    "\n",
    "  * \"Is it animal?\"  \n",
    "  * \"Is it vegetable?\"  \n",
    "  * \"Is it mineral?\"  \n",
    "  \n",
    "Suppose the answer is \"Justin Bieber?\"\n",
    "\n",
    "Which would be a better first question?\n",
    "\n",
    "\"Is it Taylor Swift?\" or \"Is it animal?\"   \n",
    "\n",
    "**Estimating the information in a data split?**\n",
    "\n",
    "Like 20 questions we want to split data in such a way as to maximize the information generated from the split.\n",
    "\n",
    "To calculate entropy, we can calculate the information difference, $-p_1 \\log p_1 - p_2 \\log p_2$. Generalizing this to n events, we get:\n",
    "\n",
    "$$\n",
    "entropy(p_1, p_2, ... p_n) = -p_1 \\log p_1 - p_2 \\log p_2 ...  - p_n \\log p_n \n",
    "$$\n",
    "\n",
    "which is just the Shannon entropy\n",
    "\n",
    "$$\n",
    "H_1 (X) = - \\sum_{i=1}^n p_i \\log p_i. \n",
    "$$\n",
    "\n",
    "For example, if entropy = $-1.0 \\log (1.0) - 0.0 \\log (0.0) = 0$ then this provides no information. If entropy = $-0.5 \\log (0.5) - 0.5 \\log (0.5) = 1.0$ then this provides one “bit” of information.  Note that when $P(X)$ is 0.5 one is most uncertain and the Shannon entropy is highest (i.e. 1). When $P(X)$ is either 0.0 or 1.0 one is most certain and the Shannon entropy is lowest (i.e. 0)\n",
    "\n",
    "_Shannon entropy_  \n",
    "\n",
    "The notion of using entropy as a measure of change in system state and dynamics comes both from [statistical physics](https://en.wikipedia.org/wiki/Entropy) and from [information theory](https://en.wikipedia.org/wiki/Entropy_(information_theory)). In statistical physics, entropy is a measure of disorder and uncertainty in a random variable; the higher the entropy, the greater the disorder. In the statistical physics context, the term usually refers to [Gibbs entropy](https://en.wikipedia.org/wiki/Entropy_(statistical_thermodynamics)), which measures the macroscopic state of the system as defined by a distribution of atoms and molecules in a thermodynamic system. Gibbs entropy is a measure of the disorder in the arrangements of its particles. As the position of a particle becomes less predictable, the entropy increases. For a classical system (i.e., a collection of classical particles) with a discrete set of microstates, if $E_i$ is the energy of microstate $i$, and $p_i$ is the probability that it occurs during the system's fluctuations, then the entropy of the system is\n",
    "\n",
    "$$\n",
    "S = -k_\\text{B}\\,\\sum_i p_i \\ln \\,p_i\n",
    "$$\n",
    "\n",
    "The quantity $k_\\text{B}$ is a physical constant known as [Boltzmann's constant](https://en.wikipedia.org/wiki/Boltzmann_constant), which, like the entropy, has units of heat capacity. The logarithm is dimensionless.\n",
    "\n",
    "In information theory, entropy is also a measure of the uncertainty in a random variable. In this context, however, the term usually refers to the [Shannon entropy](https://en.wikipedia.org/wiki/Entropy_(information_theory)), which quantifies the expected value of the information contained in a message (or the expected value of the information of the probability distribution). The concept was introduced by [Claude E. Shannon](https://en.wikipedia.org/wiki/Claude_Shannon) in his 1948 paper \"A Mathematical Theory of Communication.\" Shannon entropy establishes the limits to possible data compression and channel capacity.  That is, the entropy gives a lower bound for the efficiency of an encoding scheme (in other words, a lower bound on the possible compression of a data stream). Typically this is expressed in the number of ‘bits’ or ‘nats’ that are required to encode a given message. Given the probability of each of n events, the information required to predict an event is the distribution’s entropy. \n",
    "\n",
    "Low entropy means the system is very ordered, that is, very predictable. High entropy means the system is mixed, that is, very unpredictable; a lot of information is needed for prediction. \n",
    "\n",
    "The Shannon entropy can explicitly be written as\n",
    "\n",
    "$$\n",
    "E(X) = \\sum_{i} {\\mathrm{P}(x_i)\\,\\mathrm{I}(x_i)} = -\\sum_{i} {\\mathrm{P}(x_i) \\log_b \\mathrm{P}(x_i)},\n",
    "$$\n",
    "\n",
    "where b is the base of the logarithm used. Common values of b are 2, Euler's number $e$, and 10, and the unit of entropy is shannon for b = 2, nat for b = e, and hartley for b = 10.When b = 2, the units of entropy are also commonly referred to as bits.\n",
    "\n",
    "The Shannon entropy is by far the most common information-theoretic measure there are others. Other information-theoretic measures include: plog,Rényi entropy, Hartley entropy, collision entropy, min-entropy, Kullback-Leibler divergence and the information dimension.\n",
    "\n",
    "The Shannon entropy is the Rényi entropy with an alpha of one (see appendix). The Shannon entropy is a simple estimate of the expected value of the information contained in a message. It assumes independence and identically distributed random variables, which is a simplification when applied to word counts. In this sense it is analogous to naïve Bayes, in that it is very commonly used and thought to work well in spite of violating some assumptions upon which it is based.\n",
    "\n",
    "The limiting value of $H_\\alpha as \\alpha \\rightarrow 1$ is the Shannon entropy:\n",
    "\n",
    "$$\n",
    "H_1(X) = - \\sum_{i=1}^n p_i \\log p_i. \n",
    "$$\n",
    "\n",
    "**Classification vs Regression Trees**  \n",
    "\n",
    "Types of decision tree is based on the type of target variable we have. It can be of two types:\n",
    "\n",
    "Classification Tree (Categorical Response Variable Decision Tree): Decision Tree which separates the dataset into classes belonging to the categorical target variable. Usually the response variable has two classes: Yes or No (1 or 0).  \n",
    "\n",
    "Regression trees (Continuous Response Variable Decision Tree): If a decision Tree has continuous target variable it is applicable for prediction type of problems as opposed to classification."
   ]
  },
  {
   "cell_type": "code",
   "execution_count": 37,
   "metadata": {},
   "outputs": [
    {
     "data": {
      "image/png": "[encoded data removed]",
      "text/plain": [
       "<Figure size 432x288 with 1 Axes>"
      ]
     },
     "metadata": {
      "needs_background": "light"
     },
     "output_type": "display_data"
    }
   ],
   "source": [
    "def shannon_entropy(p):   \n",
    "    return (-p *np.log2(p) - (1-p)*np.log2(1-p))\n",
    "\n",
    "base=0.0000000001\n",
    "x = np.arange(base, 1.0-base, 0.01)\n",
    "\n",
    "\n",
    "plt.figure(1)\n",
    "plt.plot(x, shannon_entropy(x), 'go', x, shannon_entropy(x), 'k')\n",
    "plt.ylabel('Shannon entropy(X)')\n",
    "plt.xlabel('X')\n",
    "plt.show()"
   ]
  },
  {
   "cell_type": "markdown",
   "metadata": {},
   "source": [
    "### Uncertainy is not the same as probability\n",
    "\n",
    "Notice that when $P(X)$ is 0.5 one is most uncertain and the Shannon entropy is highest (i.e. 1). When $P(X)$ is either 0.0 or 1.0 one is most certain and the Shannon entropy is lowest (i.e. 0)\n",
    "\n",
    "\n",
    "### Computing Information Gain\n",
    "\n",
    "$$\n",
    "Information Gain = entropy(parent) – [average entropy(children)]\n",
    "$$\n",
    "\n",
    "Note that since the entropy(parent) doesn't change the child node for which entropy is minimum is, equivalently, the child node for which information gain is maximum.  \n",
    "\n",
    "Intuitively, low entropy means certainty and high entropy means uncertainty. A high information gain is equivalent to going from uncertainty to certainty.\n",
    "\n",
    "\n",
    "### Let's Build a Decision Tree by Computing Information Gain\n",
    "\n",
    "Building a decision tree is a simple algorithm once one understands the concept of entropy and information gain.  \n",
    "\n",
    "1. Calculate the entropy of every attribute using the data set S, using the Shannon entropy.\n",
    "2. Split the set S into subsets using the attribute for which entropy is minimum (or, equivalently, information gain is maximum)  \n",
    "3. Make the decision tree (or sub-tree) root node that attribute.  \n",
    "4. Recur on subsets using remaining attributes. \n",
    "\n",
    "## Bootstrapping, bagging, boosting and aggregating predictions\n",
    "\n",
    "\n",
    "**Bootstrapping**\n",
    "\n",
    "In [bootstrapping](https://en.wikipedia.org/wiki/Bootstrapping_(statistics)) is any test or metric that relies on random sampling with replacement. Bootstrapping allows assigning\n",
    "measures of accuracy (defined in terms of bias, variance, confidence intervals, prediction error or some other such measure) to sample estimates. This technique allows estimation of the sampling distribution of almost any statistic using random sampling\n",
    "methods. It falls in the broader class of resampling methods.\n",
    "\n",
    "**Bagging**\n",
    "\n",
    "The training algorithm for random forests applies the general technique of [bootstrap aggregating](https://en.wikipedia.org/wiki/Bootstrap_aggregating), or bagging, to tree learners. Given a training set $X = x_1, ..., x_n$ with responses $Y = y_1, ..., y_n$, bagging repeatedly ($B$ times) selects a random sample with replacement of the training set and fits trees to these samples \n",
    "\n",
    " For $b = 1, ..., B$ \n",
    " - Sample, with replacement, $B$ training examples from $X, Y$; call these $X_b, Y_b$.\n",
    " - Train a decision or regression tree $f_b \\quad on \\quad X_b, Y_b$.\n",
    "\n",
    "After training, predictions for unseen samples ${mvar|x'}$ can be made by averaging the predictions from all the individual regression trees on ${mvar|x'}$ \n",
    "\n",
    " $$\\hat{f} = \\frac{1}{B} \\sum_{b=1}^Bf_b (x')$$\n",
    "\n",
    "or by taking the majority vote in the case of decision trees.\n",
    "\n",
    "This bootstrapping procedure leads to better model performance because it decreases the [Bias–variance dilemma](https://en.wikipedia.org/wiki/Bias%E2%80%93variance_tradeoff) of the model, without increasing the bias. This means that while the predictions of a single tree are highly sensitive to noise in its training set, the average of many trees is not, as long as the trees are not correlated. Simply training many trees on a single training set would give strongly correlated trees (or even the same tree many times, if the training algorithm is deterministic); bootstrap sampling is a way of de-correlating the trees by showing them different training sets.\n",
    "\n",
    "The number of samples/trees, $B$, is a free parameter. Typically, a few hundred to several thousand trees are used, depending on the size and nature of the training set. An optimal number of trees $B$ can be found using cross-validation, or by observing the _out-of-bag error_ the mean prediction error on each training sample $x_i$, using only the trees that did not have $x_i$ in their bootstrap sample. The training and test error tend to level off after some number of trees have been fit.\n",
    "\n",
    "\n",
    "**Boosting**\n",
    "\n",
    "[Boosting](https://en.wikipedia.org/wiki/Boosting_(machine_learning) is an ensemble meta-algorithm for primarily reducing bias, and also variance in supervised learning, and a family of machine learning algorithms that convert weaker learners to strong ones. While boosting is not algorithmically constrained, most boosting algorithms consist of iteratively learning weak classifiers with respect to a distribution and adding them to a final strong classifier. When they are added, they are typically weighted in some way that is usually related to the weak learners' accuracy.  After a weak learner is added, the data weights are readjusted, known as \"re-weighting\".  Misclassified input data gain a higher weight and examples that are classified correctly lose weight. Thus, future weak learners focus more on the examples that previous weak learners misclassified.\n",
    "\n",
    "There are many boosting algorithms. The many differnce between boosting based decision-tree ensemble methods like XGboost and GBMs is the boosting algorithm used. \n",
    "\n",
    "\n",
    "**aggregating predictions**\n",
    "\n",
    "\n",
    "For regression aggregating predictions can as simple as averaging the predictions from a set of models.  For classification, aggregating predictions can as simple as ataking the majority vote of the predictions from a set of models. \n",
    "\n",
    "Usually a surrogate model is used.  Since the output from the models is always predictions, that set of predictions can serve as the input to another algorithm, usually GLMs or tree-based algorithms, which then predict the same target as the base models.  The helps as it, in effect, weights the predictions for each model according to their accuracy rather than weighting them equally as simple averaging or majority vote would do.\n",
    "\n",
    "_Distributed Random Forest (DRF)_    \n",
    "\n",
    "A Distributed Random Forest (DRF) is a powerful low-bias classification and regression tool that can fit highly non-linear data. To prevent overfitting a DRF generates a forest of classification or regression trees, rather than a single classification or regression tree through a process called bagging. The variance of estimates can be adjusted by the number of trees used. \n",
    "\n",
    "[Random forests](https://en.wikipedia.org/wiki/Random_forest) or random decision forests are an ensemble learning method for classification, regression and other tasks, that operate by constructing a multitude of decision trees at training time and outputting the class that is the mode of the classes (classification) or mean prediction (regression) of the individual trees. Random decision forests correct for decision trees' habit of overfitting to their training set.\n",
    "\n",
    "The training algorithm for random forests applies the general technique of bootstrap aggregating, or bagging, to tree learners. Given a training set $X = x_1, ..., x_n$ with responses $Y = y_1, ..., y_n$, bagging repeatedly (B times) selects a random sample with replacement of the training set and fits trees to these samples:\n",
    "\n",
    "For $b = 1, ..., B$:   \n",
    "\n",
    "*  Sample, with replacement, B training examples from $X, Y$; call these $X_b, Y_b$.   \n",
    "*  Train a decision or regression tree $f_b on X_b, Y_b$.  \n",
    "*  After training, predictions for unseen samples $x'$ can be made by averaging the predictions from all the individual regression trees on $x'$:  \n",
    "\n",
    "$$\n",
    "\\hat{f} = \\frac{1}{B} \\sum_{b=1}^Bf_b (x')\n",
    "$$\n",
    "\n",
    "or by taking the majority vote in the case of decision trees.\n",
    "\n",
    "This bootstrapping procedure leads to better model performance because it decreases the variance of the model, without increasing the bias. This means that while the predictions of a single tree are highly sensitive to noise in its training set, the average of many trees is not, as long as the trees are not correlated. Simply training many trees on a single training set would give strongly correlated trees (or even the same tree many times, if the training algorithm is deterministic); bootstrap sampling is a way of de-correlating the trees by showing them different training sets.\n",
    "\n",
    "The number of samples/trees, $B$, is a free parameter. Typically, a few hundred to several thousand trees are used, depending on the size and nature of the training set. An optimal number of trees $B$ can be found using cross-validation, or by observing the out-of-bag error: the mean prediction error on each training sample $x_i$, using only the trees that did not have $x_i$ in their bootstrap sample. The training and test error tend to level off after some number of trees have been fit.\n",
    "\n",
    "\n",
    "_Extreme Random Forest (XRT)_\n",
    "\n",
    "Extreme random forests are nearly identical to standard random forests except that the splits, both attribute and cut-point, are chosen totally or partially at random. Bias/variance\n",
    "analysis has shown that XRTs work by decreasing variance while at the same time increasing bias. Once the randomization level is properly adjusted, the variance almost vanishes while bias only slightly increases with respect to standard trees. \n",
    "\n",
    "\n",
    "_Gradient Boosting Machine (GBM)_   \n",
    "\n",
    "Gradient Boosting Machine (for Regression and Classification) is a forward learning ensemble method. The guiding heuristic is that good predictive results can be obtained through increasingly refined approximations. Boosting can create more accurate models than bagging but doesn’t help to avoid overfitting as much as bagging does.\n",
    "\n",
    "Unlike a DRF which uses bagging to prevent overfitting a GBM uses boosting to sequentially refine a regression or classification tree. However as each tree is built in parallel it allows for multi-threading (asynchronous) training large data sets.\n",
    "\n",
    "As with all tree based methods it creates decision trees and is highly interpretable.\n",
    "\n",
    "\n",
    "_XGBoost_\n",
    "\n",
    "XGBoost is a supervised learning algorithm that implements a process called boosting to yield accurate models. Boosting refers to the ensemble learning technique of building many models sequentially, with each new model attempting to correct for the deficiencies in the previous model. \n",
    "\n",
    "Both XGBoost and GBM follows the principle of gradient boosting. However, XGBoost has a more regularized model formalization to control overfitting. Boosting does not prevent overfitting the way bagging does, but typically gives better accuracy. XGBoost corrects for the deficiencies of boosting by ensembling regularized trees.\n",
    "\n",
    "Like a GBM, each tree is built in parallel it allows for multi-threading (asynchronous) training large data sets.\n",
    "\n",
    "As with all tree based methods it creates decision trees and is highly interpretable.\n",
    "\n",
    "**Preventing overfitting**\n",
    "\n",
    "The idea of overfitting means that your prediction model is too biased towards your training data. To limit overfitting two things are usually done:\n",
    "\n",
    "  * Limit the tree size (see above)    \n",
    "  * Prune the decision trees (see below) \n",
    "  \n",
    "_Constraints on Tree Size_  \n",
    "\n",
    "When creating a decision tree, there is a trade-off between its simplicity and predictive power. A deep tree with many leaves is usually over-fitting the training data. In contrast, a shallow tree may not have high training accuracy. \n",
    "\n",
    "One wants a tree that is deep enough to be accurate on the training data while being shallow enough to be predictive on a wide range of data. As a rule of thumb, a depth of the square root of the total number of features should be in the ballpark but we should always check the tree through cross-validatiion and how sensible the rules generated are.\n",
    "\n",
    "**Pruning**  \n",
    "\n",
    "The [pruning](https://en.wikipedia.org/wiki/Pruning_(decision_trees)) (of a node) in a decision tree, reduces the size of decision trees by removing sections of the tree that provide little power to classify instances. Pruning reduces the complexity of the final classifier, and hence improves predictive accuracy by the reduction of overfitting.\n",
    "\n",
    "Pruning can occur in a top down or bottom up fashion. A top down pruning will traverse nodes and trim subtrees starting at the root, while a bottom up pruning will start at the leaf nodes. Below are several popular pruning algorithms.\n",
    "\n",
    "_Reduced error pruning_    \n",
    "\n",
    "One of the simplest forms of pruning is reduced error pruning. Starting at the leaves, each node is replaced with its most popular class. If the prediction accuracy is not affected then the change is kept. While somewhat naive, reduced error pruning has the advantage of simplicity and speed.\n",
    "\n",
    "_Cost complexity pruning_  \n",
    "\n",
    "Cost complexity pruning generates a series of trees $T_0 . . . T_m$ where $T_0$ is the initial tree and $T_m$ is the root alone. At step $i$ the tree is created by removing a subtree from tree $i-1$ and replacing it with a leaf node with value chosen as in the tree building algorithm. The subtree that is removed is chosen as follows. Define the error rate of tree $T$ over data set $S$ as $err(T,S)$. The subtree that minimizes \n",
    "\n",
    "$$\\frac{err(prune(T,t),S)-err(T,S)}{|leaves(T)|-|leaves(prune(T,t))|}$$\n",
    "\n",
    "is chosen for removal. The function prune(T,t) defines the tree gotten by pruning the subtrees t from the tree T. Once the series of trees has been created, the best tree is chosen by generalized accuracy as measured by a training set or cross-validation.\n",
    "\n",
    "\n",
    "**Decision Trees Pros and Cons**  \n",
    "\n",
    "_Advantages_  \n",
    "\n",
    "Easy to Understand: Decision tree output is very easy to interpret. One can often check the rules to see if they make sense.\n",
    "\n",
    "Significant Variables: Decision tree is one of the fastest way to identify most significant variables and relation between two or more variables. \n",
    "\n",
    "Non Parametric: Decision treea are usually created with non-parametric algorithms. Non-parametric models do not require the modeler to make any assumptions about the distribution of the population, and so are sometimes referred to as a distribution-free method. \n",
    "\n",
    "_Disadvantages_   \n",
    "\n",
    "Over fitting: Over fitting is easy with decision trees. Limiting the tree depth, cross-validation and pruning are essential to creating robust trees. \n",
    "\n"
   ]
  },
  {
   "cell_type": "markdown",
   "metadata": {},
   "source": [
    "\n",
    "### Appendix - Entropy and information gain\n",
    "\n",
    "#### Plog\n",
    "\n",
    "Plog (which we pronounce ‘plog, ’ for positive log) is simply the negative log of the frequency. As the value of plog increases, the frequency decreases. \n",
    "\n",
    "$$\n",
    "E(X) = -\\sum\\ln{p_i}\n",
    "$$\n",
    "\n",
    "\n",
    "\n",
    "freq  | (base 2)  \n",
    "----  | -------------  \n",
    "0.5   |  1  \n",
    "0.25  |  2  \n",
    "1/16  |  5  \n",
    "\n",
    "  \n",
    "\n",
    "Big plog means low frequency.\n",
    "\n",
    "#### Rényi entropies  \n",
    "\n",
    "The [Rényi entropies](https://en.wikipedia.org/wiki/R%C3%A9nyi_entropy) generalize the Shannon entropy, the Hartley entropy, the min-entropy, and the collision entropy. As such, these entropies as an ensemble are often called the Rényi entropies (or the Rényi entropy, even though this usually refers to a class of entropies). The difference between these entropies is in the respective value for each of an order parameter called alpha: the values of alpha are greater than or equal to zero but cannot equal one. The Renyi entropy ordering is related to the underlying probability distributions and allows more probable events to be weighted more heavily. As alpha approaches zero, the Rényi entropy increasingly weighs all possible events more equally, regardless of their probabilities. A higher alpha (a) weighs more probable events more heavily. The base used to calculate entropies is usually base 2 or Euler's number base $e$. If the base of the logarithm is 2, then the uncertainty is measured in bits. If it is the natural logarithm, then the unit is nats. \n",
    "\n",
    "#### Rényi entropies\t \n",
    "\n",
    "The Rényi entropy of order $\\alpha$, where $\\alpha \\geq 0$  and $\\alpha \\neq 1$ , is defined as\n",
    "\n",
    "$$\n",
    "H_\\alpha(X) = \\frac{1}{1-\\alpha}\\log\\Bigg(\\sum_{i=1}^n p_i^\\alpha\\Bigg)\n",
    "$$\n",
    "\n",
    "Here, X is a discrete random variable with possible outcomes 1,2,...,n and corresponding probabilities $p_i \\doteq \\Pr(X=i) for i=1,\\dots,n,$ and the logarithm is base 2. \n",
    "\n",
    "\n",
    "#### Hartley entropy\n",
    "\n",
    "The Hartley entropy is the Rényi entropy with an alpha of zero. \n",
    "\n",
    "the probabilities are nonzero, $H_0$ is the logarithm of the cardinality of X, sometimes called the Hartley entropy of X:  \n",
    "\n",
    "$$\n",
    "H_0 (X) = \\log n = \\log |X|\n",
    "$$\n",
    "\n",
    "#### Shannon entropy \n",
    "\n",
    "The Shannon entropy is the Rényi entropy with an alpha of one. The Shannon entropy is a simple estimate of the expected value of the information contained in a message. It assumes independence and identically distributed random variables, which is a simplification when applied to word counts. In this sense it is analogous to naïve Bayes, in that it is very commonly used and thought to work well in spite of violating some assumptions upon which it is based.\n",
    "\n",
    "The limiting value of $H_\\alpha as \\alpha \\rightarrow 1$ is the Shannon entropy:\n",
    "\n",
    "$$\n",
    "H_1 (X) = - \\sum_{i=1}^n p_i \\log p_i. \n",
    "$$\n",
    "\n",
    "#### collision entropy\n",
    "\n",
    "The collision entropy is the Rényi entropy with an alpha of two and is sometimes just called \"Rényi entropy,\" refers to the case $\\alpha = 2$,\n",
    "\n",
    "$$\n",
    "H_2 (X) = - \\log \\sum_{i=1}^n p_i^2 = - \\log P(X = Y)\n",
    "$$\n",
    "\n",
    "where $X$ and $Y$ are independent and identically distributed. \n",
    "\n",
    "#### min-entropy\n",
    "\n",
    "The min-entropy is the Rényi entropy as the limit of alpha approaches infinity. The name min-entropy stems from the fact that it is the smallest entropy measure in the Rényi family of entropies. In the limit as $\\alpha \\rightarrow \\infty$, the Rényi entropy $H_\\alpha converges to the min-entropy H_\\infty$:\n",
    "\n",
    "$$\n",
    "H_\\infty(X) \\doteq \\min_i (-\\log p_i) = -(\\max_i \\log p_i) = -\\log \\max_i p_i\\,.\n",
    "$$\n",
    "\n",
    "Equivalently, the min-entropy $H_\\infty(X)$ is the largest real number b such that all events occur with probability at most $2^{-b}$.\n",
    "\n",
    "\n",
    "#### Kullback-Leibler divergence\n",
    "\n",
    "[Kullback-Leibler divergence](https://en.wikipedia.org/wiki/Kullback%E2%80%93Leibler_divergence) is a non-symmetric measure of the difference between two probability distributions. The Kullback-Leibler measure goes by several names: relative entropy, discrimination information, Kullback-Leibler (KL) number, directed divergence, informational divergence, and cross entropy. Kullback-Leibler divergence is a measure of the difference between the observed entropy and its excepted entropy. We calculate the KL divergence by weighting one distribution (like an observed frequency distribution) by the log of probabilities of some other distribution D2. For discrete probability distributions P and Q, the Kullback–Leibler divergence of Q from P is defined to be\n",
    "\n",
    "$$\n",
    "D_{\\mathrm{KL}}(P\\|Q) = \\sum_i P(i) \\, \\ln\\frac{P(i)}{Q(i)}\n",
    "$$\n",
    "\n",
    "In words, it is the expectation of the logarithmic difference between the probabilities P and Q, where the expectation is taken using the probabilities P.\n",
    "\n",
    "\n",
    "#### Mutual Information\n",
    "\n",
    "[Mutual information](https://en.wikipedia.org/wiki/Mutual_information) quantifies the mutual dependence of the two random variables. It is a measure of the “stickiness” between two items. It measures how much knowing one of these variables reduces uncertainty about the other. We can use mutual information to quantify the association between two tags. Mutual information is given by:\n",
    "\n",
    "the mutual information of two discrete random variables X and Y can be defined as:\n",
    "\n",
    "$$\n",
    " I(X;Y) = \\sum_{y \\in Y} \\sum_{x \\in X} \n",
    "                 p(x,y) \\log{ \\left(\\frac{p(x,y)}{p(x)\\,p(y)}\n",
    "                              \\right) }, \\,\\!\n",
    "$$                              \n",
    "                              \n",
    "where $p(x,y)$ is the joint probability distribution function of $X$ and $Y$, and $p(x)$ and $p(y)$ are the marginal probability distribution functions of $X$ and $Y$ respectively. In the case of continuous random variables, the summation is replaced by a definite double integral:\n",
    "\n",
    "$$\n",
    " I(X;Y) = \\int_Y \\int_X \n",
    "                 p(x,y) \\log{ \\left(\\frac{p(x,y)}{p(x)\\,p(y)}\n",
    "                              \\right) } \\; dx \\,dy,\n",
    "$$\n",
    " \n",
    "where $p(x,y)$ is now the joint probability density function of $X$ and $Y$, and $p(x$) and $p(y)$ are the marginal probability density functions of $X$ and $Y$ respectively.\n",
    "\n",
    "#### Gini Index\n",
    "\n",
    "The [Gini coefficient](https://en.wikipedia.org/wiki/Gini_coefficient) (sometimes expressed as a Gini ratio or a normalized Gini index) is a measure of homogeneity. A Gini coefficient (G) of zero expresses perfect equality, where all values are the same. A Gini coefficient of 1 (or 100%) expresses maximal inequality among values. G is a measure of inequality, defined as the mean of absolute differences between all pairs of individuals for some measure.\n",
    "\n",
    "\n",
    "#### Chi-Square\n",
    "\n",
    "A [chi-squared test](https://en.wikipedia.org/wiki/Chi-squared_test), also written as $\\chi^2$ test, is any statistical hypothesis test wherein the sampling distribution of the test statistic is a chi-squared distribution when the null hypothesis is true. It is used to test the statistical significance between the differences between sub-nodes and parent node. \n",
    "\n",
    "We measure it by sum of squares of standardized differences between observed and expected frequencies of sample population. Chi-squared tests are often constructed from a sum of squared errors, or through the sample variance. Test statistics that follow a chi-squared distribution arise from an assumption of independent normally distributed data. A chi-squared test can be used to attempt rejection of the null hypothesis that the data are independent.\n",
    "\n",
    "The higher the value of Chi-Square, the higher the statistical significance of differences between two populations.\n",
    "\n",
    "Chi-Square of each node is calculated using formula and the observed, $O$, and expected, $E$, frequencies of sample population.\n",
    "\n",
    "$$\n",
    "\\tilde{\\chi}^2=\\frac{1}{d}\\sum_{k=1}^{n} \\frac{(O_k - E_k)^2}{E_k}\\\n",
    "$$\n",
    "\n",
    "#### Reduction in Variance\n",
    "\n",
    "\n",
    "Reduction in variance is often used to calculate information gain when one has continuous variables rather than categorical variables.\n",
    "\n",
    "The variance reduction of a node $N$ is defined as the total reduction of the variance of the target variable $x$ due to the split at this node:\n",
    "\n",
    "$$\n",
    "I_{V}(N) = \\frac{1}{|S|^2}\\sum_{i\\in S} \\sum_{j\\in S} \\frac{1}{2}(x_i - x_j)^2 - \\left(\\frac{1}{|S_t|^2}\\sum_{i\\in S_t} \\sum_{j\\in S_t} \\frac{1}{2}(x_i - x_j)^2 + \\frac{1}{|S_f|^2}\\sum_{i\\in S_f} \\sum_{j\\in S_f} \\frac{1}{2}(x_i - x_j)^2\\right)\n",
    "$$\n",
    "\n",
    "where $S$, $S_t$, and $S_f$ are the set of presplit sample indices, set of sample indices for which the split test is true, and set of sample indices for which the split test is false, respectively. Each of the above summands are indeed [variance](https://en.wikipedia.org/wiki/Variance) estimates, though, written in a form without directly referring to the mean.\n",
    "\n",
    "#### ID3 algorithm\n",
    "\n",
    "This idea of iteratively finding the attribute with the most information gain to find a root in decision tree learning is called the  [ID3 (Iterative Dichotomiser 3)](https://en.wikipedia.org/wiki/ID3_algorithm) algorithm. The invented by [Ross Quinlan](https://en.wikipedia.org/wiki/Ross_Quinlan). It is a simple algorithm once one understands the concept of entropy and information gain.  \n",
    "\n",
    "1.  Calculate the entropy of every attribute using the data set S, using the Shannon entropy.\n",
    "2. Split the set S into subsets using the attribute for which entropy is minimum (or, equivalently, information gain is maximum)  \n",
    "3. Make the decision tree (or sub-tree) root node that attribute.  \n",
    "4. Recur on subsets using remaining attributes.  \n",
    "\n",
    "#### C4.5 algorithm\n",
    "\n",
    "[C4.5](https://en.wikipedia.org/wiki/C4.5_algorithm) is an extension of Quinlan's earlier ID3 algorithm. The splitting criterion is based on statistical confidence estimates. This technique has the advantage that it allows all of the available labeled data to be used for training. To generate this confidence one calculates the error rate over $n$ labled training instances. The observed error rate $e$ is analaogous to the observed fraction of heads in $n$  tosses of a biased coin (i.e. the probability of heads may not be 0.5). One wishes to estimate the true error rate, $p$ from the observed error rate $e$.   \n",
    "\n",
    "The confidence interval, is calculated as follows, if one chooses a level of confidence $z$ then \n",
    "\n",
    "$$\n",
    "p = e + z \\times \\sqrt{e \\times \\frac{1-e}{n}}\n",
    "$$  \n",
    "\n",
    "Paired values for z and confidence levels (z,confidence) are in the following lists: (0.67 z, 50% confidence), (1.0 z, 68% confidence) , (1.64 z, 90% confidence) and (1.96 z, 95% confidence).\n",
    "\n"
   ]
  },
  {
   "cell_type": "markdown",
   "metadata": {},
   "source": [
    "Copyright 2019 NEU AI Skunkworks\n",
    "\n",
    "Permission is hereby granted, free of charge, to any person obtaining a copy of this software and associated documentation files (the \"Software\"), to deal in the Software without restriction, including without limitation the rights to use, copy, modify, merge, publish, distribute, sublicense, and/or sell copies of the Software, and to permit persons to whom the Software is furnished to do so, subject to the following conditions:\n",
    "\n",
    "The above copyright notice and this permission notice shall be included in all copies or substantial portions of the Software.\n",
    "\n",
    "THE SOFTWARE IS PROVIDED \"AS IS\", WITHOUT WARRANTY OF ANY KIND, EXPRESS OR IMPLIED, INCLUDING BUT NOT LIMITED TO THE WARRANTIES OF MERCHANTABILITY, FITNESS FOR A PARTICULAR PURPOSE AND NONINFRINGEMENT. IN NO EVENT SHALL THE AUTHORS OR COPYRIGHT HOLDERS BE LIABLE FOR ANY CLAIM, DAMAGES OR OTHER LIABILITY, WHETHER IN AN ACTION OF CONTRACT, TORT OR OTHERWISE, ARISING FROM, OUT OF OR IN CONNECTION WITH THE SOFTWARE OR THE USE OR OTHER DEALINGS IN THE SOFTWARE."
   ]
  }
 ],
 "metadata": {
  "kernelspec": {
   "display_name": "Python 3",
   "language": "python",
   "name": "python3"
  },
  "language_info": {
   "codemirror_mode": {
    "name": "ipython",
    "version": 3
   },
   "file_extension": ".py",
   "mimetype": "text/x-python",
   "name": "python",
   "nbconvert_exporter": "python",
   "pygments_lexer": "ipython3",
   "version": "3.6.9"
  }
 },
 "nbformat": 4,
 "nbformat_minor": 2
}
